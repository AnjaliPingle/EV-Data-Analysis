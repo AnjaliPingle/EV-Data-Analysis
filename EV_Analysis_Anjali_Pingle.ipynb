{
 "cells": [
  {
   "cell_type": "markdown",
   "id": "0e1e5965-58ff-4c3a-9354-733bad05f6ef",
   "metadata": {},
   "source": [
    "## Assignment title: Electric Vehicle Population Data\n",
    "## Name: Anjali Pingle \n",
    "## Date: 30/03/2025\n",
    "## Course: Python Data Analysis\n"
   ]
  },
  {
   "cell_type": "markdown",
   "id": "54440f99-4ef4-440f-8de5-cd563e253b68",
   "metadata": {},
   "source": [
    "## Introduction:\n",
    "The Electric Vehicle Population Dataset provides detailed information on electric vehicles (EVs) registered in the state of Washington, USA. Each record includes attributes such as the make and model, model year, vehicle type, electric range, Base MSRP, Clean Alternative Fuel Vehicle (CAFV) eligibility, and registration location including county and vehicle GPS coordinates.\n",
    "\n",
    "The objective of this analysis is to:\n",
    "\n",
    "Understand the adoption trends of electric vehicles over time.\n",
    "\n",
    "Identify the most popular EV makes and models.\n",
    "\n",
    "Analyze geographic distribution of EV registrations across counties.\n",
    "\n",
    "Explore the relationship between vehicle specifications (e.g., MSRP, model year) and electric range.\n",
    "\n",
    "Build a predictive model using regression to estimate the electric range of EVs based on their features.\n",
    "\n",
    "This analysis aims to uncover insights into consumer behavior, pricing trends, and regional adoption, which can support policy decisions, business strategies, and future EV infrastructure planning."
   ]
  },
  {
   "cell_type": "markdown",
   "id": "c751c507-54b5-4812-86b2-d632b70ea2a7",
   "metadata": {},
   "source": [
    "## Section 1 : Data Cleaning"
   ]
  },
  {
   "cell_type": "code",
   "execution_count": 19,
   "id": "e82b6334-92a9-475f-ac5b-1fa548b6ba6c",
   "metadata": {},
   "outputs": [
    {
     "name": "stdout",
     "output_type": "stream",
     "text": [
      "Defaulting to user installation because normal site-packages is not writeableNote: you may need to restart the kernel to use updated packages.\n",
      "\n",
      "Requirement already satisfied: geopy in c:\\users\\lappy\\appdata\\roaming\\python\\python312\\site-packages (2.4.1)\n",
      "Requirement already satisfied: geographiclib<3,>=1.52 in c:\\users\\lappy\\appdata\\roaming\\python\\python312\\site-packages (from geopy) (2.0)\n"
     ]
    }
   ],
   "source": [
    "pip install geopy"
   ]
  },
  {
   "cell_type": "markdown",
   "id": "10129da0-0489-4f7e-b985-906f58b1faa3",
   "metadata": {},
   "source": [
    "### Uploading of the Dataset"
   ]
  },
  {
   "cell_type": "code",
   "execution_count": 12,
   "id": "f3ddbc48-7961-44fe-b80f-116b2cdbad56",
   "metadata": {},
   "outputs": [
    {
     "data": {
      "text/html": [
       "<div>\n",
       "<style scoped>\n",
       "    .dataframe tbody tr th:only-of-type {\n",
       "        vertical-align: middle;\n",
       "    }\n",
       "\n",
       "    .dataframe tbody tr th {\n",
       "        vertical-align: top;\n",
       "    }\n",
       "\n",
       "    .dataframe thead th {\n",
       "        text-align: right;\n",
       "    }\n",
       "</style>\n",
       "<table border=\"1\" class=\"dataframe\">\n",
       "  <thead>\n",
       "    <tr style=\"text-align: right;\">\n",
       "      <th></th>\n",
       "      <th>VIN (1-10)</th>\n",
       "      <th>County</th>\n",
       "      <th>City</th>\n",
       "      <th>State</th>\n",
       "      <th>Postal Code</th>\n",
       "      <th>Model Year</th>\n",
       "      <th>Make</th>\n",
       "      <th>Model</th>\n",
       "      <th>Electric Vehicle Type</th>\n",
       "      <th>Clean Alternative Fuel Vehicle (CAFV) Eligibility</th>\n",
       "      <th>Electric Range</th>\n",
       "      <th>Base MSRP</th>\n",
       "      <th>Legislative District</th>\n",
       "      <th>DOL Vehicle ID</th>\n",
       "      <th>Vehicle Location</th>\n",
       "      <th>Electric Utility</th>\n",
       "      <th>2020 Census Tract</th>\n",
       "    </tr>\n",
       "  </thead>\n",
       "  <tbody>\n",
       "    <tr>\n",
       "      <th>0</th>\n",
       "      <td>5YJ3E1EBXK</td>\n",
       "      <td>King</td>\n",
       "      <td>Seattle</td>\n",
       "      <td>WA</td>\n",
       "      <td>98178.0</td>\n",
       "      <td>2019</td>\n",
       "      <td>TESLA</td>\n",
       "      <td>MODEL 3</td>\n",
       "      <td>Battery Electric Vehicle (BEV)</td>\n",
       "      <td>Clean Alternative Fuel Vehicle Eligible</td>\n",
       "      <td>220.0</td>\n",
       "      <td>0.0</td>\n",
       "      <td>37.0</td>\n",
       "      <td>477309682</td>\n",
       "      <td>POINT (-122.23825 47.49461)</td>\n",
       "      <td>CITY OF SEATTLE - (WA)|CITY OF TACOMA - (WA)</td>\n",
       "      <td>5.303301e+10</td>\n",
       "    </tr>\n",
       "    <tr>\n",
       "      <th>1</th>\n",
       "      <td>5YJYGDEE3L</td>\n",
       "      <td>Kitsap</td>\n",
       "      <td>Poulsbo</td>\n",
       "      <td>WA</td>\n",
       "      <td>98370.0</td>\n",
       "      <td>2020</td>\n",
       "      <td>TESLA</td>\n",
       "      <td>MODEL Y</td>\n",
       "      <td>Battery Electric Vehicle (BEV)</td>\n",
       "      <td>Clean Alternative Fuel Vehicle Eligible</td>\n",
       "      <td>291.0</td>\n",
       "      <td>0.0</td>\n",
       "      <td>23.0</td>\n",
       "      <td>109705683</td>\n",
       "      <td>POINT (-122.64681 47.73689)</td>\n",
       "      <td>PUGET SOUND ENERGY INC</td>\n",
       "      <td>5.303509e+10</td>\n",
       "    </tr>\n",
       "    <tr>\n",
       "      <th>2</th>\n",
       "      <td>KM8KRDAF5P</td>\n",
       "      <td>Kitsap</td>\n",
       "      <td>Olalla</td>\n",
       "      <td>WA</td>\n",
       "      <td>98359.0</td>\n",
       "      <td>2023</td>\n",
       "      <td>HYUNDAI</td>\n",
       "      <td>IONIQ 5</td>\n",
       "      <td>Battery Electric Vehicle (BEV)</td>\n",
       "      <td>Eligibility unknown as battery range has not b...</td>\n",
       "      <td>0.0</td>\n",
       "      <td>0.0</td>\n",
       "      <td>26.0</td>\n",
       "      <td>230390492</td>\n",
       "      <td>POINT (-122.54729 47.42602)</td>\n",
       "      <td>PUGET SOUND ENERGY INC</td>\n",
       "      <td>5.303509e+10</td>\n",
       "    </tr>\n",
       "    <tr>\n",
       "      <th>3</th>\n",
       "      <td>5UXTA6C0XM</td>\n",
       "      <td>Kitsap</td>\n",
       "      <td>Seabeck</td>\n",
       "      <td>WA</td>\n",
       "      <td>98380.0</td>\n",
       "      <td>2021</td>\n",
       "      <td>BMW</td>\n",
       "      <td>X5</td>\n",
       "      <td>Plug-in Hybrid Electric Vehicle (PHEV)</td>\n",
       "      <td>Clean Alternative Fuel Vehicle Eligible</td>\n",
       "      <td>30.0</td>\n",
       "      <td>0.0</td>\n",
       "      <td>35.0</td>\n",
       "      <td>267929112</td>\n",
       "      <td>POINT (-122.81585 47.64509)</td>\n",
       "      <td>PUGET SOUND ENERGY INC</td>\n",
       "      <td>5.303509e+10</td>\n",
       "    </tr>\n",
       "    <tr>\n",
       "      <th>4</th>\n",
       "      <td>JTMAB3FV7P</td>\n",
       "      <td>Thurston</td>\n",
       "      <td>Rainier</td>\n",
       "      <td>WA</td>\n",
       "      <td>98576.0</td>\n",
       "      <td>2023</td>\n",
       "      <td>TOYOTA</td>\n",
       "      <td>RAV4 PRIME</td>\n",
       "      <td>Plug-in Hybrid Electric Vehicle (PHEV)</td>\n",
       "      <td>Clean Alternative Fuel Vehicle Eligible</td>\n",
       "      <td>42.0</td>\n",
       "      <td>0.0</td>\n",
       "      <td>2.0</td>\n",
       "      <td>236505139</td>\n",
       "      <td>POINT (-122.68993 46.88897)</td>\n",
       "      <td>PUGET SOUND ENERGY INC</td>\n",
       "      <td>5.306701e+10</td>\n",
       "    </tr>\n",
       "  </tbody>\n",
       "</table>\n",
       "</div>"
      ],
      "text/plain": [
       "   VIN (1-10)    County     City State  Postal Code  Model Year     Make  \\\n",
       "0  5YJ3E1EBXK      King  Seattle    WA      98178.0        2019    TESLA   \n",
       "1  5YJYGDEE3L    Kitsap  Poulsbo    WA      98370.0        2020    TESLA   \n",
       "2  KM8KRDAF5P    Kitsap   Olalla    WA      98359.0        2023  HYUNDAI   \n",
       "3  5UXTA6C0XM    Kitsap  Seabeck    WA      98380.0        2021      BMW   \n",
       "4  JTMAB3FV7P  Thurston  Rainier    WA      98576.0        2023   TOYOTA   \n",
       "\n",
       "        Model                   Electric Vehicle Type  \\\n",
       "0     MODEL 3          Battery Electric Vehicle (BEV)   \n",
       "1     MODEL Y          Battery Electric Vehicle (BEV)   \n",
       "2     IONIQ 5          Battery Electric Vehicle (BEV)   \n",
       "3          X5  Plug-in Hybrid Electric Vehicle (PHEV)   \n",
       "4  RAV4 PRIME  Plug-in Hybrid Electric Vehicle (PHEV)   \n",
       "\n",
       "   Clean Alternative Fuel Vehicle (CAFV) Eligibility  Electric Range  \\\n",
       "0            Clean Alternative Fuel Vehicle Eligible           220.0   \n",
       "1            Clean Alternative Fuel Vehicle Eligible           291.0   \n",
       "2  Eligibility unknown as battery range has not b...             0.0   \n",
       "3            Clean Alternative Fuel Vehicle Eligible            30.0   \n",
       "4            Clean Alternative Fuel Vehicle Eligible            42.0   \n",
       "\n",
       "   Base MSRP  Legislative District  DOL Vehicle ID  \\\n",
       "0        0.0                  37.0       477309682   \n",
       "1        0.0                  23.0       109705683   \n",
       "2        0.0                  26.0       230390492   \n",
       "3        0.0                  35.0       267929112   \n",
       "4        0.0                   2.0       236505139   \n",
       "\n",
       "              Vehicle Location                              Electric Utility  \\\n",
       "0  POINT (-122.23825 47.49461)  CITY OF SEATTLE - (WA)|CITY OF TACOMA - (WA)   \n",
       "1  POINT (-122.64681 47.73689)                        PUGET SOUND ENERGY INC   \n",
       "2  POINT (-122.54729 47.42602)                        PUGET SOUND ENERGY INC   \n",
       "3  POINT (-122.81585 47.64509)                        PUGET SOUND ENERGY INC   \n",
       "4  POINT (-122.68993 46.88897)                        PUGET SOUND ENERGY INC   \n",
       "\n",
       "   2020 Census Tract  \n",
       "0       5.303301e+10  \n",
       "1       5.303509e+10  \n",
       "2       5.303509e+10  \n",
       "3       5.303509e+10  \n",
       "4       5.306701e+10  "
      ]
     },
     "execution_count": 12,
     "metadata": {},
     "output_type": "execute_result"
    }
   ],
   "source": [
    "import pandas as pd\n",
    "\n",
    "df = pd.read_csv('Electric_Vehicle_Population_Data.csv')  # Replace with the actual file name\n",
    "df.head()  # To preview the first few rows\n"
   ]
  },
  {
   "cell_type": "markdown",
   "id": "93e9df0a-5e43-4100-8dea-98c0b6beb897",
   "metadata": {},
   "source": [
    "#### How many missing values exist in the dataset, and in which columns? "
   ]
  },
  {
   "cell_type": "code",
   "execution_count": 13,
   "id": "25829e45-e7b4-4dc9-af92-80424232ae8c",
   "metadata": {},
   "outputs": [
    {
     "name": "stdout",
     "output_type": "stream",
     "text": [
      "Total Missing Values: 591\n",
      "Missing Values by Column:\n",
      "County                    3\n",
      "City                      3\n",
      "Postal Code               3\n",
      "Electric Range           36\n",
      "Base MSRP                36\n",
      "Legislative District    494\n",
      "Vehicle Location         10\n",
      "Electric Utility          3\n",
      "2020 Census Tract         3\n",
      "dtype: int64\n"
     ]
    }
   ],
   "source": [
    "import pandas as pd\n",
    "\n",
    "# Load your dataset\n",
    "df = pd.read_csv('Electric_Vehicle_Population_Data.csv')  # Replace with your actual file path\n",
    "\n",
    "# Check for missing values\n",
    "missing_values = df.isnull().sum()\n",
    "\n",
    "# Filter to only show columns with missing values\n",
    "missing_columns = missing_values[missing_values > 0]\n",
    "\n",
    "# Display the total number of missing values and the columns\n",
    "print(\"Total Missing Values:\", missing_columns.sum())\n",
    "print(\"Missing Values by Column:\")\n",
    "print(missing_columns)\n"
   ]
  },
  {
   "cell_type": "markdown",
   "id": "5c80c6d0-f28c-4fb1-85e1-2c1f340458cd",
   "metadata": {},
   "source": [
    "### How should missing or zero values in the Base MSRP and Electric Range columns be handled?"
   ]
  },
  {
   "cell_type": "code",
   "execution_count": 14,
   "id": "9178422c-3f83-4a3d-ac89-715bb5e89559",
   "metadata": {},
   "outputs": [],
   "source": [
    "# Remove rows where Base MSRP or Electric Range are missing or zero\n",
    "df_cleaned = df[(df['Base MSRP'].notnull()) & \n",
    "                (df['Electric Range'].notnull()) & \n",
    "                (df['Base MSRP'] != 0) & \n",
    "                (df['Electric Range'] != 0)]\n"
   ]
  },
  {
   "cell_type": "markdown",
   "id": "cf9bf430-70c1-44ae-9716-9b87e3accf08",
   "metadata": {},
   "source": [
    "### Are there duplicate records in the dataset? If so, how should they be managed?"
   ]
  },
  {
   "cell_type": "code",
   "execution_count": 15,
   "id": "0b29b9a6-47b9-4211-a205-45267ed90ea1",
   "metadata": {},
   "outputs": [
    {
     "name": "stdout",
     "output_type": "stream",
     "text": [
      "Number of duplicate records: 0\n"
     ]
    },
    {
     "data": {
      "text/html": [
       "<div>\n",
       "<style scoped>\n",
       "    .dataframe tbody tr th:only-of-type {\n",
       "        vertical-align: middle;\n",
       "    }\n",
       "\n",
       "    .dataframe tbody tr th {\n",
       "        vertical-align: top;\n",
       "    }\n",
       "\n",
       "    .dataframe thead th {\n",
       "        text-align: right;\n",
       "    }\n",
       "</style>\n",
       "<table border=\"1\" class=\"dataframe\">\n",
       "  <thead>\n",
       "    <tr style=\"text-align: right;\">\n",
       "      <th></th>\n",
       "      <th>VIN (1-10)</th>\n",
       "      <th>County</th>\n",
       "      <th>City</th>\n",
       "      <th>State</th>\n",
       "      <th>Postal Code</th>\n",
       "      <th>Model Year</th>\n",
       "      <th>Make</th>\n",
       "      <th>Model</th>\n",
       "      <th>Electric Vehicle Type</th>\n",
       "      <th>Clean Alternative Fuel Vehicle (CAFV) Eligibility</th>\n",
       "      <th>Electric Range</th>\n",
       "      <th>Base MSRP</th>\n",
       "      <th>Legislative District</th>\n",
       "      <th>DOL Vehicle ID</th>\n",
       "      <th>Vehicle Location</th>\n",
       "      <th>Electric Utility</th>\n",
       "      <th>2020 Census Tract</th>\n",
       "    </tr>\n",
       "  </thead>\n",
       "  <tbody>\n",
       "  </tbody>\n",
       "</table>\n",
       "</div>"
      ],
      "text/plain": [
       "Empty DataFrame\n",
       "Columns: [VIN (1-10), County, City, State, Postal Code, Model Year, Make, Model, Electric Vehicle Type, Clean Alternative Fuel Vehicle (CAFV) Eligibility, Electric Range, Base MSRP, Legislative District, DOL Vehicle ID, Vehicle Location, Electric Utility, 2020 Census Tract]\n",
       "Index: []"
      ]
     },
     "execution_count": 15,
     "metadata": {},
     "output_type": "execute_result"
    }
   ],
   "source": [
    "# Find duplicate rows\n",
    "duplicate_rows = df[df.duplicated()]\n",
    "\n",
    "# Display the number of duplicate records\n",
    "print(\"Number of duplicate records:\", duplicate_rows.shape[0])\n",
    "\n",
    "# Optionally view the duplicate rows\n",
    "duplicate_rows\n"
   ]
  },
  {
   "cell_type": "code",
   "execution_count": 16,
   "id": "1a15759f-03b9-4f54-bb62-87d131b92c3d",
   "metadata": {},
   "outputs": [
    {
     "name": "stdout",
     "output_type": "stream",
     "text": [
      "Shape after removing duplicates: (235692, 17)\n"
     ]
    }
   ],
   "source": [
    "# Drop duplicate rows and keep only the first occurrence\n",
    "df_cleaned = df.drop_duplicates()\n",
    "\n",
    "# Confirm the new shape\n",
    "print(\"Shape after removing duplicates:\", df_cleaned.shape)\n"
   ]
  },
  {
   "cell_type": "markdown",
   "id": "3e5e46c3-4c0d-4ffb-bb3d-c5316c96ef49",
   "metadata": {},
   "source": [
    "### How can VINs be anonymized while maintaining uniqueness?\n"
   ]
  },
  {
   "cell_type": "code",
   "execution_count": 17,
   "id": "3c41372b-b94c-4c3e-927e-4cb12ecba00d",
   "metadata": {},
   "outputs": [],
   "source": [
    "\n",
    "df['Anonymized_VIN'] = ['ID_' + str(i) for i in range(len(df))]\n"
   ]
  },
  {
   "cell_type": "markdown",
   "id": "1a0793f0-30f7-4682-8d3d-6af2b10f7467",
   "metadata": {},
   "source": [
    "### How can Vehicle Location (GPS coordinates) be cleaned or converted for better readability?"
   ]
  },
  {
   "cell_type": "code",
   "execution_count": 10,
   "id": "58d54987-edd1-47ad-9344-f98302747b0a",
   "metadata": {},
   "outputs": [
    {
     "name": "stdout",
     "output_type": "stream",
     "text": [
      "Defaulting to user installation because normal site-packages is not writeable\n",
      "Collecting geopy\n",
      "  Downloading geopy-2.4.1-py3-none-any.whl.metadata (6.8 kB)\n",
      "Collecting geographiclib<3,>=1.52 (from geopy)\n",
      "  Downloading geographiclib-2.0-py3-none-any.whl.metadata (1.4 kB)\n",
      "Downloading geopy-2.4.1-py3-none-any.whl (125 kB)\n",
      "Downloading geographiclib-2.0-py3-none-any.whl (40 kB)\n",
      "Installing collected packages: geographiclib, geopy\n",
      "Successfully installed geographiclib-2.0 geopy-2.4.1\n",
      "Note: you may need to restart the kernel to use updated packages.\n"
     ]
    }
   ],
   "source": [
    "pip install geopy"
   ]
  },
  {
   "cell_type": "code",
   "execution_count": 12,
   "id": "ae292583-2bfe-4864-bbfd-6a5639446e52",
   "metadata": {},
   "outputs": [
    {
     "data": {
      "text/html": [
       "<div>\n",
       "<style scoped>\n",
       "    .dataframe tbody tr th:only-of-type {\n",
       "        vertical-align: middle;\n",
       "    }\n",
       "\n",
       "    .dataframe tbody tr th {\n",
       "        vertical-align: top;\n",
       "    }\n",
       "\n",
       "    .dataframe thead th {\n",
       "        text-align: right;\n",
       "    }\n",
       "</style>\n",
       "<table border=\"1\" class=\"dataframe\">\n",
       "  <thead>\n",
       "    <tr style=\"text-align: right;\">\n",
       "      <th></th>\n",
       "      <th>Vehicle Location</th>\n",
       "      <th>Latitude</th>\n",
       "      <th>Longitude</th>\n",
       "    </tr>\n",
       "  </thead>\n",
       "  <tbody>\n",
       "    <tr>\n",
       "      <th>0</th>\n",
       "      <td>POINT (-122.23825 47.49461)</td>\n",
       "      <td>47.49461</td>\n",
       "      <td>-122.23825</td>\n",
       "    </tr>\n",
       "    <tr>\n",
       "      <th>1</th>\n",
       "      <td>POINT (-122.64681 47.73689)</td>\n",
       "      <td>47.73689</td>\n",
       "      <td>-122.64681</td>\n",
       "    </tr>\n",
       "    <tr>\n",
       "      <th>2</th>\n",
       "      <td>POINT (-122.54729 47.42602)</td>\n",
       "      <td>47.42602</td>\n",
       "      <td>-122.54729</td>\n",
       "    </tr>\n",
       "    <tr>\n",
       "      <th>3</th>\n",
       "      <td>POINT (-122.81585 47.64509)</td>\n",
       "      <td>47.64509</td>\n",
       "      <td>-122.81585</td>\n",
       "    </tr>\n",
       "    <tr>\n",
       "      <th>4</th>\n",
       "      <td>POINT (-122.68993 46.88897)</td>\n",
       "      <td>46.88897</td>\n",
       "      <td>-122.68993</td>\n",
       "    </tr>\n",
       "  </tbody>\n",
       "</table>\n",
       "</div>"
      ],
      "text/plain": [
       "              Vehicle Location  Latitude  Longitude\n",
       "0  POINT (-122.23825 47.49461)  47.49461 -122.23825\n",
       "1  POINT (-122.64681 47.73689)  47.73689 -122.64681\n",
       "2  POINT (-122.54729 47.42602)  47.42602 -122.54729\n",
       "3  POINT (-122.81585 47.64509)  47.64509 -122.81585\n",
       "4  POINT (-122.68993 46.88897)  46.88897 -122.68993"
      ]
     },
     "execution_count": 12,
     "metadata": {},
     "output_type": "execute_result"
    }
   ],
   "source": [
    "# Remove \"POINT (\" and \")\" and split into Longitude and Latitude\n",
    "df[['Longitude', 'Latitude']] = df['Vehicle Location'].str.extract(r'POINT \\((-?\\d+\\.\\d+)\\s(-?\\d+\\.\\d+)\\)')\n",
    "\n",
    "# Convert from string to float for numeric use\n",
    "df['Longitude'] = df['Longitude'].astype(float)\n",
    "df['Latitude'] = df['Latitude'].astype(float)\n",
    "\n",
    "# Preview result\n",
    "df[['Vehicle Location', 'Latitude', 'Longitude']].head()\n",
    "\n"
   ]
  },
  {
   "cell_type": "markdown",
   "id": "dd9f7df0-6181-4794-969a-2d7da7258eea",
   "metadata": {},
   "source": [
    "### Section 2: Data Exploration\n",
    "##### What are the top 5 most common EV makes and models in the dataset?"
   ]
  },
  {
   "cell_type": "markdown",
   "id": "b1bf3c13-3537-491b-a04e-49a1a26961b9",
   "metadata": {},
   "source": [
    "The top 5 most common EV makes and models in the dataset are:\n",
    "\n",
    "1. **Tesla Model Y** – 49,253 vehicles  \n",
    "2. **Tesla Model 3** – 36,065 vehicles  \n",
    "3. **Nissan Leaf** – 13,814 vehicles  \n",
    "4. **Tesla Model S** – 7,885 vehicles  \n",
    "5. **Chevrolet Bolt EV** – 7,278 vehicles  \n"
   ]
  },
  {
   "cell_type": "code",
   "execution_count": 14,
   "id": "67edc0ed-678d-4da8-a420-481de283c38f",
   "metadata": {},
   "outputs": [
    {
     "name": "stdout",
     "output_type": "stream",
     "text": [
      "Top 5 Most Common EV Makes and Models:\n",
      "\n",
      "Make_Model\n",
      "TESLA MODEL Y        49253\n",
      "TESLA MODEL 3        36065\n",
      "NISSAN LEAF          13814\n",
      "TESLA MODEL S         7885\n",
      "CHEVROLET BOLT EV     7278\n",
      "Name: count, dtype: int64\n"
     ]
    }
   ],
   "source": [
    "import pandas as pd\n",
    "\n",
    "# Load the dataset\n",
    "df = pd.read_csv('C:/Users/LAPPY/Documents/jup/Electric_Vehicle_Population_Data.csv')  # Update with your file path\n",
    "\n",
    "# Combine 'Make' and 'Model' into a single column for analysis\n",
    "df['Make_Model'] = df['Make'].str.upper() + ' ' + df['Model'].str.upper()\n",
    "\n",
    "# Get the top 5 most common make + model combinations\n",
    "top_5_models = df['Make_Model'].value_counts().head(5)\n",
    "\n",
    "# Display the result\n",
    "print(\"Top 5 Most Common EV Makes and Models:\\n\")\n",
    "print(top_5_models)\n"
   ]
  },
  {
   "cell_type": "markdown",
   "id": "cda238c0-2f5b-4fe4-9003-240f89048144",
   "metadata": {},
   "source": [
    "## What is the distribution of EVs by county? Which county has the most registrations?\n",
    "\n",
    "The distribution of EVs by county (top 5) is:\n",
    "\n",
    "1. **King County** – 118,711 registrations  \n",
    "2. **Snohomish County** – 28,814 registrations  \n",
    "3. **Pierce County** – 19,256 registrations  \n",
    "4. **Clark County** – 14,101 registrations  \n",
    "5. **Thurston County** – 8,595 registrations  \n",
    "\n",
    "**King County** has the highest number of EV registrations by a wide margin."
   ]
  },
  {
   "cell_type": "code",
   "execution_count": 13,
   "id": "64c90dbb-e6d2-43ec-9712-56c6b1290f70",
   "metadata": {},
   "outputs": [
    {
     "name": "stdout",
     "output_type": "stream",
     "text": [
      "EV distribution by county:\n",
      "\n",
      "County\n",
      "King         118711\n",
      "Snohomish     28814\n",
      "Pierce        19256\n",
      "Clark         14101\n",
      "Thurston       8595\n",
      "Kitsap         7901\n",
      "Spokane        6582\n",
      "Whatcom        5703\n",
      "Benton         3043\n",
      "Skagit         2677\n",
      "Name: count, dtype: int64\n",
      "\n",
      "County with the most EV registrations: King (118711 vehicles)\n"
     ]
    }
   ],
   "source": [
    "import pandas as pd\n",
    "\n",
    "# Load the dataset\n",
    "df = pd.read_csv('C:/Users/LAPPY/Documents/jup/Electric_Vehicle_Population_Data.csv')  # Update with your file path\n",
    "\n",
    "# Get the distribution of EVs by county\n",
    "county_distribution = df['County'].value_counts()\n",
    "\n",
    "# Find the county with the most registrations\n",
    "most_registered_county = county_distribution.idxmax()\n",
    "most_registered_count = county_distribution.max()\n",
    "\n",
    "# Display results\n",
    "print(\"EV distribution by county:\\n\")\n",
    "print(county_distribution.head(10))  # Top 10 counties\n",
    "print(f\"\\nCounty with the most EV registrations: {most_registered_county} ({most_registered_count} vehicles)\")\n"
   ]
  },
  {
   "cell_type": "markdown",
   "id": "d03ad1fa-3b6f-4737-8461-2eb0b07236fb",
   "metadata": {},
   "source": [
    "### How has EV adoption changed over different model years?\n",
    "\n",
    "EV adoption has increased significantly over time. Here's how the number of EVs is distributed by model year:\n",
    "\n",
    "- Early adoption was minimal before 2011.\n",
    "- A noticeable uptick begins in **2011**, growing steadily through the 2010s.\n",
    "- Major jumps occurred in:\n",
    "  - **2018**: 14,368 EVs  \n",
    "  - **2021**: 20,615 EVs  \n",
    "  - **2022**: 28,958 EVs  \n",
    "  - **2023**: 59,893 EVs  \n",
    "  - **2024**: 49,044 EVs (so far)\n",
    "  - **2025**: 11,176 EVs (likely early registrations)\n",
    "\n",
    "This trend shows a rapid acceleration in EV adoption, especially in the last few years."
   ]
  },
  {
   "cell_type": "code",
   "execution_count": 10,
   "id": "9578aee3-7883-452d-9893-f8337ef7db7d",
   "metadata": {},
   "outputs": [
    {
     "data": {
      "image/png": "[encoded data removed]",
      "text/plain": [
       "<Figure size 1200x600 with 1 Axes>"
      ]
     },
     "metadata": {},
     "output_type": "display_data"
    }
   ],
   "source": [
    "\n",
    "import pandas as pd\n",
    "import matplotlib.pyplot as plt\n",
    "\n",
    "# Load the dataset\n",
    "file_path = 'Electric_Vehicle_Population_Data.csv'  # Update the path if needed\n",
    "df = pd.read_csv('C:/Users/LAPPY/Documents/jup/Electric_Vehicle_Population_Data.csv')\n",
    "\n",
    "# Count EVs by model year\n",
    "model_year_distribution = df['Model Year'].value_counts().sort_index()\n",
    "\n",
    "# Plotting the trend of EV adoption by model year\n",
    "plt.figure(figsize=(12, 6))\n",
    "plt.plot(model_year_distribution.index, model_year_distribution.values, marker='o')\n",
    "plt.title('EV Adoption by Model Year')\n",
    "plt.xlabel('Model Year')\n",
    "plt.ylabel('Number of EVs')\n",
    "plt.grid(True)\n",
    "plt.tight_layout()\n",
    "plt.show()\n"
   ]
  },
  {
   "cell_type": "markdown",
   "id": "90a5f7a6-5403-4ff2-af79-e446e1a97727",
   "metadata": {},
   "source": [
    "### What is the average electric range of EVs in the dataset?\n"
   ]
  },
  {
   "cell_type": "code",
   "execution_count": 16,
   "id": "2f90cb71-b5a5-402e-a2f1-1d3530e3ad5a",
   "metadata": {},
   "outputs": [
    {
     "name": "stdout",
     "output_type": "stream",
     "text": [
      "Average Electric Range: 46.26 miles\n"
     ]
    }
   ],
   "source": [
    "import pandas as pd\n",
    "\n",
    "# Load the dataset\n",
    "df = pd.read_csv('C:/Users/LAPPY/Documents/jup/Electric_Vehicle_Population_Data.csv')  # Update with your file path\n",
    "\n",
    "# Calculate the average electric range (excluding any missing or zero values if needed)\n",
    "average_range = df['Electric Range'].mean()\n",
    "\n",
    "# Display the result\n",
    "print(f\"Average Electric Range: {average_range:.2f} miles\")\n"
   ]
  },
  {
   "cell_type": "markdown",
   "id": "9511db2c-29a5-4319-ac4d-10db5ef3a98c",
   "metadata": {},
   "source": [
    "### What percentage of EVs are eligible for Clean Alternative Fuel Vehicle (CAFV) incentives?"
   ]
  },
  {
   "cell_type": "code",
   "execution_count": 17,
   "id": "705dddb1-7c71-4128-b0a6-979c791de20a",
   "metadata": {},
   "outputs": [
    {
     "name": "stdout",
     "output_type": "stream",
     "text": [
      "Percentage of EVs eligible for CAFV incentives: 31.11%\n"
     ]
    }
   ],
   "source": [
    "\n",
    "# Load the dataset\n",
    "df = pd.read_csv('C:/Users/LAPPY/Documents/jup/Electric_Vehicle_Population_Data.csv')  # Update with your actual path\n",
    "\n",
    "# Count total number of EVs\n",
    "total_vehicles = len(df)\n",
    "\n",
    "# Count number of EVs that are eligible\n",
    "eligible_vehicles = df[\n",
    "    df['Clean Alternative Fuel Vehicle (CAFV) Eligibility'] == 'Clean Alternative Fuel Vehicle Eligible'\n",
    "].shape[0]\n",
    "\n",
    "# Calculate percentage\n",
    "eligible_percentage = (eligible_vehicles / total_vehicles) * 100\n",
    "\n",
    "# Display the result\n",
    "print(f\"Percentage of EVs eligible for CAFV incentives: {eligible_percentage:.2f}%\")\n"
   ]
  },
  {
   "cell_type": "markdown",
   "id": "230494b4-602d-4523-abfe-2fbd9eaf6f1f",
   "metadata": {},
   "source": [
    "### How does the electric range vary across different makes and models?"
   ]
  },
  {
   "cell_type": "code",
   "execution_count": 18,
   "id": "a97f87a7-8e69-4792-a885-35db81592977",
   "metadata": {},
   "outputs": [
    {
     "name": "stdout",
     "output_type": "stream",
     "text": [
      "Top 10 EVs by Average Electric Range:\n",
      "\n",
      "Make_Model\n",
      "PORSCHE MACAN        304.285714\n",
      "TESLA MODEL Y        291.000000\n",
      "HYUNDAI KONA         258.000000\n",
      "CHEVROLET BOLT EV    244.832999\n",
      "TESLA MODEL X        241.023143\n",
      "TESLA MODEL 3        238.249272\n",
      "TESLA ROADSTER       234.285714\n",
      "JAGUAR I-PACE        234.000000\n",
      "POLESTAR PS2         233.000000\n",
      "TESLA MODEL S        227.581883\n",
      "Name: Electric Range, dtype: float64\n"
     ]
    }
   ],
   "source": [
    "\n",
    "# Load the dataset\n",
    "df = pd.read_csv('C:/Users/LAPPY/Documents/jup/Electric_Vehicle_Population_Data.csv')  # Update path as needed\n",
    "\n",
    "# Combine 'Make' and 'Model' into a single identifier\n",
    "df['Make_Model'] = df['Make'].str.upper() + ' ' + df['Model'].str.upper()\n",
    "\n",
    "# Filter out rows with missing or zero electric range\n",
    "df_filtered = df[df['Electric Range'] > 0]\n",
    "\n",
    "# Calculate average electric range by make and model\n",
    "range_by_make_model = df_filtered.groupby('Make_Model')['Electric Range'].mean().sort_values(ascending=False)\n",
    "\n",
    "# Display top 10 models with the highest average electric range\n",
    "print(\"Top 10 EVs by Average Electric Range:\\n\")\n",
    "print(range_by_make_model.head(10))\n"
   ]
  },
  {
   "cell_type": "markdown",
   "id": "c96a1c19-a4cc-4cb4-b81f-a050101fe97a",
   "metadata": {},
   "source": [
    "### What is the average Base MSRP for each EV model?"
   ]
  },
  {
   "cell_type": "code",
   "execution_count": 19,
   "id": "15ad62e2-2cc1-48b6-ac47-73f1da6f0de6",
   "metadata": {},
   "outputs": [
    {
     "name": "stdout",
     "output_type": "stream",
     "text": [
      "Average Base MSRP by EV Model:\n",
      "\n",
      "Make_Model\n",
      "PORSCHE 918                    845000.000000\n",
      "TESLA ROADSTER                 103418.000000\n",
      "FISKER KARMA                   102000.000000\n",
      "BMW 740E                        90425.925926\n",
      "CADILLAC CT6                    75095.000000\n",
      "BMW 530E                        35630.045872\n",
      "WHEEGO ELECTRIC CARS WHEEGO     32995.000000\n",
      "KIA SOUL EV                     32365.700483\n",
      "KIA SOUL                        30352.500000\n",
      "SUBARU CROSSTREK                25211.451613\n",
      "Name: Base MSRP, dtype: float64\n"
     ]
    }
   ],
   "source": [
    "\n",
    "# Load the dataset\n",
    "df = pd.read_csv('C:/Users/LAPPY/Documents/jup/Electric_Vehicle_Population_Data.csv')  # Update the path as needed\n",
    "\n",
    "# Combine 'Make' and 'Model' into one column for clarity\n",
    "df['Make_Model'] = df['Make'].str.upper() + ' ' + df['Model'].str.upper()\n",
    "\n",
    "# Group by Make_Model and calculate the average Base MSRP\n",
    "avg_msrp_by_model = df.groupby('Make_Model')['Base MSRP'].mean().sort_values(ascending=False)\n",
    "\n",
    "# Display the result\n",
    "print(\"Average Base MSRP by EV Model:\\n\")\n",
    "print(avg_msrp_by_model.head(10))  # Show top 10 by average MSRP\n"
   ]
  },
  {
   "cell_type": "markdown",
   "id": "0b36c145-bc68-4226-98ac-e79850f7f0f4",
   "metadata": {},
   "source": [
    "### Are there any regional trends in EV adoption (e.g., urban vs. rural areas)"
   ]
  },
  {
   "cell_type": "code",
   "execution_count": 20,
   "id": "6e344710-f833-4f7e-b2e2-681e09e82790",
   "metadata": {},
   "outputs": [
    {
     "name": "stdout",
     "output_type": "stream",
     "text": [
      "EV Adoption by Region Type:\n",
      "\n",
      "Region_Type\n",
      "Rural      5653\n",
      "Urban    215383\n",
      "Name: EV_Count, dtype: int64\n"
     ]
    }
   ],
   "source": [
    "\n",
    "# Load EV dataset\n",
    "df = pd.read_csv('C:/Users/LAPPY/Documents/jup/Electric_Vehicle_Population_Data.csv')  # Update path\n",
    "\n",
    "# Step 1: Count EVs by county\n",
    "ev_by_county = df['County'].value_counts().reset_index()\n",
    "ev_by_county.columns = ['County', 'EV_Count']\n",
    "\n",
    "# Step 2: Create a sample urban vs rural mapping (you would use real data here)\n",
    "# Example: manually classify a few counties\n",
    "urban_rural_map = {\n",
    "    'King': 'Urban',\n",
    "    'Snohomish': 'Urban',\n",
    "    'Pierce': 'Urban',\n",
    "    'Clark': 'Urban',\n",
    "    'Thurston': 'Urban',\n",
    "    'Kitsap': 'Urban',\n",
    "    'Spokane': 'Urban',\n",
    "    'Whatcom': 'Urban',\n",
    "    'Benton': 'Urban',\n",
    "    'Skagit': 'Urban',\n",
    "    'Chelan': 'Rural',\n",
    "    'Walla Walla': 'Rural',\n",
    "    'Okanogan': 'Rural',\n",
    "    'Grays Harbor': 'Rural',\n",
    "    'Mason': 'Rural',\n",
    "    'Jefferson': 'Rural',\n",
    "}\n",
    "\n",
    "# Step 3: Map each county to urban/rural\n",
    "ev_by_county['Region_Type'] = ev_by_county['County'].map(urban_rural_map)\n",
    "\n",
    "# Drop rows with no classification\n",
    "ev_by_county_clean = ev_by_county.dropna(subset=['Region_Type'])\n",
    "\n",
    "# Step 4: Calculate total EVs by region type\n",
    "ev_region_summary = ev_by_county_clean.groupby('Region_Type')['EV_Count'].sum()\n",
    "\n",
    "# Display result\n",
    "print(\"EV Adoption by Region Type:\\n\")\n",
    "print(ev_region_summary)\n"
   ]
  },
  {
   "cell_type": "code",
   "execution_count": 21,
   "id": "c4659ba8-87e5-404a-8537-c8ad8e935021",
   "metadata": {},
   "outputs": [
    {
     "data": {
      "image/png": "[encoded data removed]",
      "text/plain": [
       "<Figure size 600x600 with 1 Axes>"
      ]
     },
     "metadata": {},
     "output_type": "display_data"
    }
   ],
   "source": [
    "import matplotlib.pyplot as plt\n",
    "\n",
    "ev_region_summary.plot(kind='pie', autopct='%1.1f%%', startangle=90, figsize=(6, 6), title='EV Adoption: Urban vs Rural')\n",
    "plt.ylabel('')\n",
    "plt.tight_layout()\n",
    "plt.show()\n"
   ]
  },
  {
   "cell_type": "markdown",
   "id": "be34e211-e228-4eb3-9320-8687bfd072d2",
   "metadata": {},
   "source": [
    "### Section 3: Data Visualization\n",
    "##### Create a bar chart showing the top 5 EV makes and models by count.\n"
   ]
  },
  {
   "cell_type": "code",
   "execution_count": 22,
   "id": "a6493cda-5506-4cf4-b4aa-42a5ba864021",
   "metadata": {},
   "outputs": [
    {
     "data": {
      "image/png": "[encoded data removed]",
      "text/plain": [
       "<Figure size 1000x600 with 1 Axes>"
      ]
     },
     "metadata": {},
     "output_type": "display_data"
    }
   ],
   "source": [
    "\n",
    "# Load the dataset\n",
    "df = pd.read_csv('C:/Users/LAPPY/Documents/jup/Electric_Vehicle_Population_Data.csv')  # Update with your file path\n",
    "\n",
    "# Create a combined column for Make and Model\n",
    "df['Make_Model'] = df['Make'].str.upper() + ' ' + df['Model'].str.upper()\n",
    "\n",
    "# Get the top 5 most common make + model combinations\n",
    "top_5 = df['Make_Model'].value_counts().head(5)\n",
    "\n",
    "# Plot a bar chart\n",
    "plt.figure(figsize=(10, 6))\n",
    "top_5.plot(kind='bar', color='skyblue')\n",
    "plt.title('Top 5 EV Makes and Models by Count')\n",
    "plt.xlabel('Make and Model')\n",
    "plt.ylabel('Number of Vehicles')\n",
    "plt.xticks(rotation=45, ha='right')\n",
    "plt.tight_layout()\n",
    "plt.show()\n"
   ]
  },
  {
   "cell_type": "markdown",
   "id": "97da0184-23f0-44d1-8d81-ab4ace77b622",
   "metadata": {},
   "source": [
    "#### Use a heatmap or choropleth map to visualize EV distribution by county."
   ]
  },
  {
   "cell_type": "code",
   "execution_count": 25,
   "id": "979239e2-a7f2-428f-b1f0-10dae8d374f1",
   "metadata": {},
   "outputs": [
    {
     "name": "stdout",
     "output_type": "stream",
     "text": [
      "Defaulting to user installation because normal site-packages is not writeable\n",
      "Requirement already satisfied: pandas in c:\\programdata\\anaconda3\\lib\\site-packages (2.2.2)\n",
      "Collecting folium\n",
      "  Downloading folium-0.19.5-py2.py3-none-any.whl.metadata (4.1 kB)\n",
      "Requirement already satisfied: requests in c:\\programdata\\anaconda3\\lib\\site-packages (2.32.3)\n",
      "Requirement already satisfied: numpy>=1.26.0 in c:\\programdata\\anaconda3\\lib\\site-packages (from pandas) (1.26.4)\n",
      "Requirement already satisfied: python-dateutil>=2.8.2 in c:\\programdata\\anaconda3\\lib\\site-packages (from pandas) (2.9.0.post0)\n",
      "Requirement already satisfied: pytz>=2020.1 in c:\\programdata\\anaconda3\\lib\\site-packages (from pandas) (2024.1)\n",
      "Requirement already satisfied: tzdata>=2022.7 in c:\\programdata\\anaconda3\\lib\\site-packages (from pandas) (2023.3)\n",
      "Collecting branca>=0.6.0 (from folium)\n",
      "  Downloading branca-0.8.1-py3-none-any.whl.metadata (1.5 kB)\n",
      "Requirement already satisfied: jinja2>=2.9 in c:\\programdata\\anaconda3\\lib\\site-packages (from folium) (3.1.4)\n",
      "Requirement already satisfied: xyzservices in c:\\programdata\\anaconda3\\lib\\site-packages (from folium) (2022.9.0)\n",
      "Requirement already satisfied: charset-normalizer<4,>=2 in c:\\programdata\\anaconda3\\lib\\site-packages (from requests) (3.3.2)\n",
      "Requirement already satisfied: idna<4,>=2.5 in c:\\programdata\\anaconda3\\lib\\site-packages (from requests) (3.7)\n",
      "Requirement already satisfied: urllib3<3,>=1.21.1 in c:\\programdata\\anaconda3\\lib\\site-packages (from requests) (2.2.3)\n",
      "Requirement already satisfied: certifi>=2017.4.17 in c:\\programdata\\anaconda3\\lib\\site-packages (from requests) (2024.8.30)\n",
      "Requirement already satisfied: MarkupSafe>=2.0 in c:\\programdata\\anaconda3\\lib\\site-packages (from jinja2>=2.9->folium) (2.1.3)\n",
      "Requirement already satisfied: six>=1.5 in c:\\programdata\\anaconda3\\lib\\site-packages (from python-dateutil>=2.8.2->pandas) (1.16.0)\n",
      "Downloading folium-0.19.5-py2.py3-none-any.whl (110 kB)\n",
      "Downloading branca-0.8.1-py3-none-any.whl (26 kB)\n",
      "Installing collected packages: branca, folium\n",
      "Successfully installed branca-0.8.1 folium-0.19.5\n",
      "Note: you may need to restart the kernel to use updated packages.\n"
     ]
    }
   ],
   "source": [
    "pip install pandas folium requests\n"
   ]
  },
  {
   "cell_type": "code",
   "execution_count": 42,
   "id": "3bad30e0-d167-40e9-981b-5ce04d21a5b7",
   "metadata": {},
   "outputs": [
    {
     "name": "stdout",
     "output_type": "stream",
     "text": [
      "Top-level keys: dict_keys(['errors', 'meta'])\n",
      "{'errors': [{...}], 'meta': {}}\n"
     ]
    }
   ],
   "source": [
    "import json\n",
    "\n",
    "# Load your GeoJSON file\n",
    "with open('washington_counties.geojson', 'r') as f:\n",
    "    data = json.load(f)\n",
    "\n",
    "# Print the top-level keys\n",
    "print(\"Top-level keys:\", data.keys())\n",
    "\n",
    "# Peek into the structure (first 1000 characters)\n",
    "import pprint\n",
    "pprint.pprint(data, indent=2, depth=2)\n"
   ]
  },
  {
   "cell_type": "code",
   "execution_count": 45,
   "id": "8bb3bf3e-31a2-4cc9-973d-b7f24270ccc4",
   "metadata": {},
   "outputs": [],
   "source": [
    "import pandas as pd\n",
    "import folium\n",
    "import requests\n",
    "\n",
    "# Load EV dataset\n",
    "df = pd.read_csv(\"C:/Users/LAPPY/Documents/jup/Electric_Vehicle_Population_Data.csv\")  # Update path\n",
    "df['County'] = df['County'].str.title()\n",
    "\n",
    "# Aggregate EV counts by county\n",
    "ev_by_county = df['County'].value_counts().reset_index()\n",
    "ev_by_county.columns = ['County', 'EV_Count']\n",
    "\n",
    "# ✅ Clean Washington state counties GeoJSON\n",
    "wa_geo_url = \"https://raw.githubusercontent.com/johan/world.geo.json/master/countries/USA/WA.geo.json\"\n",
    "\n",
    "geojson = requests.get(wa_geo_url).json()\n",
    "\n",
    "# Create map centered on WA\n",
    "m = folium.Map(location=[47.5, -120.5], zoom_start=7)\n",
    "\n",
    "# Create choropleth\n",
    "folium.Choropleth(\n",
    "    geo_data=geojson,\n",
    "    name='choropleth',\n",
    "    data=ev_by_county,\n",
    "    columns=['County', 'EV_Count'],\n",
    "    key_on='feature.properties.name',  # Use lowercase 'name' from this GeoJSON\n",
    "    fill_color='YlGnBu',\n",
    "    fill_opacity=0.7,\n",
    "    line_opacity=0.2,\n",
    "    legend_name='EV Count by County'\n",
    ").add_to(m)\n",
    "\n",
    "folium.LayerControl().add_to(m)\n",
    "\n",
    "# Save map\n",
    "m.save('ev_distribution_map.html')\n"
   ]
  },
  {
   "cell_type": "code",
   "execution_count": 46,
   "id": "62b713ee-5149-409e-8003-704efbe940d9",
   "metadata": {},
   "outputs": [
    {
     "name": "stdout",
     "output_type": "stream",
     "text": [
      "['Washington']\n"
     ]
    }
   ],
   "source": [
    "unique_geo_counties = [f['properties']['name'] for f in geojson['features']]\n",
    "print(unique_geo_counties)\n"
   ]
  },
  {
   "cell_type": "markdown",
   "id": "9c1a817e-00ab-40a1-a23e-1e859cbb451c",
   "metadata": {},
   "source": [
    "#### Create a line graph showing the trend of EV adoption by model year"
   ]
  },
  {
   "cell_type": "code",
   "execution_count": 47,
   "id": "ddbb848e-ef7d-48f4-8080-165463c1f98a",
   "metadata": {},
   "outputs": [
    {
     "data": {
      "image/png": "[encoded data removed]",
      "text/plain": [
       "<Figure size 1200x600 with 1 Axes>"
      ]
     },
     "metadata": {},
     "output_type": "display_data"
    }
   ],
   "source": [
    "\n",
    "# Load the dataset\n",
    "df = pd.read_csv(\"C:/Users/LAPPY/Documents/jup/Electric_Vehicle_Population_Data.csv\")  # Update the file path\n",
    "\n",
    "# Group by Model Year and count EVs\n",
    "ev_by_year = df['Model Year'].value_counts().sort_index()\n",
    "\n",
    "# Plot the trend\n",
    "plt.figure(figsize=(12, 6))\n",
    "plt.plot(ev_by_year.index, ev_by_year.values, marker='o', linestyle='-', color='green')\n",
    "\n",
    "# Add labels and title\n",
    "plt.title('Trend of EV Adoption by Model Year', fontsize=16)\n",
    "plt.xlabel('Model Year', fontsize=12)\n",
    "plt.ylabel('Number of EVs Registered', fontsize=12)\n",
    "plt.grid(True)\n",
    "plt.xticks(rotation=45)\n",
    "plt.tight_layout()\n",
    "\n",
    "# Show plot\n",
    "plt.show()\n"
   ]
  },
  {
   "cell_type": "markdown",
   "id": "fdaafe24-b640-4f8f-943f-ceff2454450d",
   "metadata": {},
   "source": [
    "#### Generate a scatter plot comparing electric range vs. base MSRP to see pricing trends."
   ]
  },
  {
   "cell_type": "code",
   "execution_count": 48,
   "id": "fbe4a7f0-7f5c-4f30-8a0b-5251cf269838",
   "metadata": {},
   "outputs": [
    {
     "data": {
      "image/png": "[encoded data removed]",
      "text/plain": [
       "<Figure size 1000x600 with 1 Axes>"
      ]
     },
     "metadata": {},
     "output_type": "display_data"
    }
   ],
   "source": [
    "# Load the dataset\n",
    "df = pd.read_csv(\"C:/Users/LAPPY/Documents/jup/Electric_Vehicle_Population_Data.csv\")  # Update path\n",
    "\n",
    "# Drop rows with missing values in the relevant columns\n",
    "df_clean = df.dropna(subset=['Electric Range', 'Base MSRP'])\n",
    "\n",
    "# Create scatter plot\n",
    "plt.figure(figsize=(10, 6))\n",
    "plt.scatter(df_clean['Base MSRP'], df_clean['Electric Range'], alpha=0.6, color='teal')\n",
    "\n",
    "# Add labels and title\n",
    "plt.title('Electric Range vs. Base MSRP of EVs', fontsize=16)\n",
    "plt.xlabel('Base MSRP ($)', fontsize=12)\n",
    "plt.ylabel('Electric Range (miles)', fontsize=12)\n",
    "plt.grid(True)\n",
    "plt.tight_layout()\n",
    "\n",
    "# Show plot\n",
    "plt.show()\n"
   ]
  },
  {
   "cell_type": "markdown",
   "id": "5d92636f-b685-41fc-baf0-0244f215747c",
   "metadata": {},
   "source": [
    "#### Plot a pie chart showing the proportion of CAFV-eligible vs. non-eligible EVs."
   ]
  },
  {
   "cell_type": "code",
   "execution_count": 49,
   "id": "9faad0e7-3ce3-4f77-b79f-e665398b6fae",
   "metadata": {},
   "outputs": [
    {
     "data": {
      "image/png": "[encoded data removed]",
      "text/plain": [
       "<Figure size 800x600 with 1 Axes>"
      ]
     },
     "metadata": {},
     "output_type": "display_data"
    }
   ],
   "source": [
    "\n",
    "# Load the dataset\n",
    "df = pd.read_csv(\"C:/Users/LAPPY/Documents/jup/Electric_Vehicle_Population_Data.csv\")  # Update path if needed\n",
    "\n",
    "# Count the number of eligible vs. non-eligible vehicles\n",
    "cafv_counts = df['Clean Alternative Fuel Vehicle (CAFV) Eligibility'].value_counts()\n",
    "\n",
    "# Plot pie chart\n",
    "plt.figure(figsize=(8, 6))\n",
    "plt.pie(cafv_counts, labels=cafv_counts.index, autopct='%1.1f%%', startangle=140, colors=['#66c2a5', '#fc8d62'])\n",
    "plt.title('CAFV Eligibility Proportion', fontsize=14)\n",
    "plt.axis('equal')  # Equal aspect ratio ensures the pie chart is circular\n",
    "\n",
    "# Show plot\n",
    "plt.show()\n"
   ]
  },
  {
   "cell_type": "markdown",
   "id": "56db2574-8e5e-46e5-94bd-500833d61abe",
   "metadata": {},
   "source": [
    "#### Use a geospatial map to display EV registrations based on vehicle location"
   ]
  },
  {
   "cell_type": "code",
   "execution_count": 51,
   "id": "25c06a83-3e13-4dd8-b61b-0857dc682146",
   "metadata": {},
   "outputs": [
    {
     "name": "stdout",
     "output_type": "stream",
     "text": [
      "['VIN (1-10)', 'County', 'City', 'State', 'Postal Code', 'Model Year', 'Make', 'Model', 'Electric Vehicle Type', 'Clean Alternative Fuel Vehicle (CAFV) Eligibility', 'Electric Range', 'Base MSRP', 'Legislative District', 'DOL Vehicle ID', 'Vehicle Location', 'Electric Utility', '2020 Census Tract']\n"
     ]
    }
   ],
   "source": [
    "print(df.columns.tolist())\n"
   ]
  },
  {
   "cell_type": "code",
   "execution_count": 53,
   "id": "edb206ef-370b-4427-98ce-b194de880a7a",
   "metadata": {},
   "outputs": [],
   "source": [
    "import pandas as pd\n",
    "import folium\n",
    "from folium.plugins import MarkerCluster\n",
    "\n",
    "# Load dataset\n",
    "df = pd.read_csv(\"C:/Users/LAPPY/Documents/jup/Electric_Vehicle_Population_Data.csv\")\n",
    "\n",
    "# Keep rows where 'Vehicle Location' is not null or empty\n",
    "df = df[df['Vehicle Location'].notnull() & (df['Vehicle Location'].str.strip() != '')]\n",
    "\n",
    "# Clean and split 'Vehicle Location' into lat/lon\n",
    "location_split = df['Vehicle Location'].str.extract(r'\\(?\\s*([\\d\\.\\-]+)\\s*,\\s*([\\d\\.\\-]+)\\s*\\)?')\n",
    "location_split.columns = ['Latitude', 'Longitude']\n",
    "\n",
    "# Convert to numeric\n",
    "location_split['Latitude'] = pd.to_numeric(location_split['Latitude'], errors='coerce')\n",
    "location_split['Longitude'] = pd.to_numeric(location_split['Longitude'], errors='coerce')\n",
    "\n",
    "# Drop rows with invalid coordinates\n",
    "location_split = location_split.dropna()\n",
    "\n",
    "# Merge back into original DataFrame\n",
    "df = df.loc[location_split.index].copy()\n",
    "df['Latitude'] = location_split['Latitude']\n",
    "df['Longitude'] = location_split['Longitude']\n",
    "\n",
    "# Create Folium map\n",
    "m = folium.Map(location=[47.5, -120.5], zoom_start=7)\n",
    "marker_cluster = MarkerCluster().add_to(m)\n",
    "\n",
    "# Plot EVs\n",
    "for _, row in df.iterrows():\n",
    "    folium.Marker(\n",
    "        location=[row['Latitude'], row['Longitude']],\n",
    "        popup=f\"{row['Make']} {row['Model']} ({row['Model Year']})\",\n",
    "        icon=folium.Icon(color='blue', icon='car', prefix='fa')\n",
    "    ).add_to(marker_cluster)\n",
    "\n",
    "# Save map\n",
    "m.save(\"ev_vehicle_locations_map.html\")\n"
   ]
  },
  {
   "cell_type": "markdown",
   "id": "224c69f8-a34e-4bd4-9307-f086666bb526",
   "metadata": {},
   "source": [
    "### Section 4: Linear Regression Model\n",
    "#### How can we use Linear Regression to predict the Electric Range of a vehicle?"
   ]
  },
  {
   "cell_type": "code",
   "execution_count": 54,
   "id": "56897b30-920b-4a38-8906-599b56ad44a8",
   "metadata": {},
   "outputs": [
    {
     "name": "stdout",
     "output_type": "stream",
     "text": [
      "R² Score: 0.3398221429784597\n",
      "RMSE: 67.9534695592974\n"
     ]
    },
    {
     "name": "stderr",
     "output_type": "stream",
     "text": [
      "C:\\ProgramData\\anaconda3\\Lib\\site-packages\\sklearn\\metrics\\_regression.py:492: FutureWarning: 'squared' is deprecated in version 1.4 and will be removed in 1.6. To calculate the root mean squared error, use the function'root_mean_squared_error'.\n",
      "  warnings.warn(\n"
     ]
    }
   ],
   "source": [
    "import pandas as pd\n",
    "from sklearn.model_selection import train_test_split\n",
    "from sklearn.linear_model import LinearRegression\n",
    "from sklearn.preprocessing import OneHotEncoder\n",
    "from sklearn.compose import ColumnTransformer\n",
    "from sklearn.pipeline import Pipeline\n",
    "from sklearn.metrics import mean_squared_error, r2_score\n",
    "\n",
    "# Load your dataset\n",
    "df = pd.read_csv(\"C:/Users/LAPPY/Documents/jup/Electric_Vehicle_Population_Data.csv\")\n",
    "\n",
    "# Drop rows with missing values in relevant columns\n",
    "df = df.dropna(subset=['Electric Range', 'Model Year', 'Base MSRP', 'Make'])\n",
    "\n",
    "# Select features and target\n",
    "X = df[['Model Year', 'Base MSRP', 'Make']]\n",
    "y = df['Electric Range']\n",
    "\n",
    "# One-hot encode categorical 'Make'\n",
    "preprocessor = ColumnTransformer(\n",
    "    transformers=[\n",
    "        ('cat', OneHotEncoder(handle_unknown='ignore'), ['Make'])\n",
    "    ],\n",
    "    remainder='passthrough'  # Pass through 'Model Year' and 'Base MSRP'\n",
    ")\n",
    "\n",
    "# Create pipeline: preprocessing + model\n",
    "model = Pipeline(steps=[\n",
    "    ('preprocessor', preprocessor),\n",
    "    ('regressor', LinearRegression())\n",
    "])\n",
    "\n",
    "# Split data into train/test\n",
    "X_train, X_test, y_train, y_test = train_test_split(X, y, test_size=0.2, random_state=42)\n",
    "\n",
    "# Train the model\n",
    "model.fit(X_train, y_train)\n",
    "\n",
    "# Predict\n",
    "y_pred = model.predict(X_test)\n",
    "\n",
    "# Evaluate\n",
    "print(\"R² Score:\", r2_score(y_test, y_pred))\n",
    "print(\"RMSE:\", mean_squared_error(y_test, y_pred, squared=False))\n"
   ]
  },
  {
   "cell_type": "markdown",
   "id": "5a30d47a-7a46-4b5f-9594-5ee2e4aa8e69",
   "metadata": {},
   "source": [
    "#### What independent variables (features) can be used to predict Electric Range? (e.g., Model Year, Base MSRP, Make)"
   ]
  },
  {
   "cell_type": "code",
   "execution_count": 56,
   "id": "05c0bfdf-6a7d-4d9d-9e89-5458d1089c01",
   "metadata": {},
   "outputs": [
    {
     "name": "stdout",
     "output_type": "stream",
     "text": [
      "<class 'pandas.core.frame.DataFrame'>\n",
      "RangeIndex: 235692 entries, 0 to 235691\n",
      "Data columns (total 17 columns):\n",
      " #   Column                                             Non-Null Count   Dtype  \n",
      "---  ------                                             --------------   -----  \n",
      " 0   VIN (1-10)                                         235692 non-null  object \n",
      " 1   County                                             235689 non-null  object \n",
      " 2   City                                               235689 non-null  object \n",
      " 3   State                                              235692 non-null  object \n",
      " 4   Postal Code                                        235689 non-null  float64\n",
      " 5   Model Year                                         235692 non-null  int64  \n",
      " 6   Make                                               235692 non-null  object \n",
      " 7   Model                                              235692 non-null  object \n",
      " 8   Electric Vehicle Type                              235692 non-null  object \n",
      " 9   Clean Alternative Fuel Vehicle (CAFV) Eligibility  235692 non-null  object \n",
      " 10  Electric Range                                     235656 non-null  float64\n",
      " 11  Base MSRP                                          235656 non-null  float64\n",
      " 12  Legislative District                               235198 non-null  float64\n",
      " 13  DOL Vehicle ID                                     235692 non-null  int64  \n",
      " 14  Vehicle Location                                   235682 non-null  object \n",
      " 15  Electric Utility                                   235689 non-null  object \n",
      " 16  2020 Census Tract                                  235689 non-null  float64\n",
      "dtypes: float64(5), int64(2), object(10)\n",
      "memory usage: 30.6+ MB\n",
      "None\n"
     ]
    }
   ],
   "source": [
    "# Load dataset\n",
    "import pandas as pd\n",
    "\n",
    "df = pd.read_csv(\"C:/Users/LAPPY/Documents/jup/Electric_Vehicle_Population_Data.csv\")\n",
    "\n",
    "# Display column names and non-null counts\n",
    "print(df.info())\n"
   ]
  },
  {
   "cell_type": "code",
   "execution_count": 57,
   "id": "a0d593f6-a37e-4e42-ad0d-aa735d727064",
   "metadata": {},
   "outputs": [],
   "source": [
    "potential_features = [\n",
    "    'Model Year',\n",
    "    'Base MSRP',\n",
    "    'Make',\n",
    "    'Model',\n",
    "    'Electric Vehicle Type',\n",
    "    'CAFV Eligibility',\n",
    "    'Electric Utility'\n",
    "]\n"
   ]
  },
  {
   "cell_type": "code",
   "execution_count": 58,
   "id": "3bfd92ac-539c-4f53-83da-39e967a9077f",
   "metadata": {},
   "outputs": [
    {
     "name": "stdout",
     "output_type": "stream",
     "text": [
      "                Model Year  Base MSRP  Electric Range\n",
      "Model Year        1.000000  -0.228828       -0.531097\n",
      "Base MSRP        -0.228828   1.000000        0.116817\n",
      "Electric Range   -0.531097   0.116817        1.000000\n"
     ]
    }
   ],
   "source": [
    "# Check correlation with Electric Range\n",
    "numeric_cols = ['Model Year', 'Base MSRP', 'Electric Range']\n",
    "print(df[numeric_cols].corr())\n"
   ]
  },
  {
   "cell_type": "code",
   "execution_count": 61,
   "id": "6a5609fe-8cb4-4e45-9b26-b8994f23b1ac",
   "metadata": {},
   "outputs": [
    {
     "name": "stdout",
     "output_type": "stream",
     "text": [
      "Electric Range           36\n",
      "Model Year                0\n",
      "Base MSRP                36\n",
      "Make                      0\n",
      "Model                     0\n",
      "Electric Vehicle Type     0\n",
      "dtype: int64\n"
     ]
    }
   ],
   "source": [
    "selected = ['Electric Range', 'Model Year', 'Base MSRP', 'Make', 'Model', 'Electric Vehicle Type']\n",
    "print(df[selected].isnull().sum())"
   ]
  },
  {
   "cell_type": "markdown",
   "id": "1905f82c-f6bf-4e4e-81c0-a45fb6591a1f",
   "metadata": {},
   "source": [
    "#### How do we handle categorical variables like Make and Model in regression analysis?"
   ]
  },
  {
   "cell_type": "code",
   "execution_count": 62,
   "id": "6cd830bc-e982-4485-803b-c152ff4330eb",
   "metadata": {},
   "outputs": [
    {
     "name": "stdout",
     "output_type": "stream",
     "text": [
      "Sample predictions: [121.29152807  39.81455425 114.54365127  96.6665045   39.89680265]\n"
     ]
    }
   ],
   "source": [
    "import pandas as pd\n",
    "from sklearn.model_selection import train_test_split\n",
    "from sklearn.linear_model import LinearRegression\n",
    "from sklearn.compose import ColumnTransformer\n",
    "from sklearn.preprocessing import OneHotEncoder\n",
    "from sklearn.pipeline import Pipeline\n",
    "\n",
    "# Load data\n",
    "df = pd.read_csv(\"C:/Users/LAPPY/Documents/jup/Electric_Vehicle_Population_Data.csv\")\n",
    "\n",
    "# Drop rows with missing values\n",
    "df = df.dropna(subset=['Electric Range', 'Model Year', 'Base MSRP', 'Make', 'Model'])\n",
    "\n",
    "# Define features (X) and target (y)\n",
    "X = df[['Model Year', 'Base MSRP', 'Make', 'Model']]\n",
    "y = df['Electric Range']\n",
    "\n",
    "# Preprocess categorical variables\n",
    "preprocessor = ColumnTransformer(\n",
    "    transformers=[\n",
    "        ('cat', OneHotEncoder(handle_unknown='ignore'), ['Make', 'Model'])\n",
    "    ],\n",
    "    remainder='passthrough'  # keep Model Year and Base MSRP as-is\n",
    ")\n",
    "\n",
    "# Create pipeline\n",
    "pipeline = Pipeline(steps=[\n",
    "    ('preprocessor', preprocessor),\n",
    "    ('regressor', LinearRegression())\n",
    "])\n",
    "\n",
    "# Split data\n",
    "X_train, X_test, y_train, y_test = train_test_split(X, y, test_size=0.2, random_state=42)\n",
    "\n",
    "# Train model\n",
    "pipeline.fit(X_train, y_train)\n",
    "\n",
    "# Predict and evaluate\n",
    "y_pred = pipeline.predict(X_test)\n",
    "print(\"Sample predictions:\", y_pred[:5])\n"
   ]
  },
  {
   "cell_type": "markdown",
   "id": "ee18ac2d-7536-4ceb-877e-35344b44b4fc",
   "metadata": {},
   "source": [
    "#### What is the R² score of the model, and what does it indicate about prediction accuracy?"
   ]
  },
  {
   "cell_type": "code",
   "execution_count": 63,
   "id": "74ff0db0-77f5-4f4f-b375-84bca29ab0d1",
   "metadata": {},
   "outputs": [
    {
     "name": "stdout",
     "output_type": "stream",
     "text": [
      "R² Score: 0.5191\n"
     ]
    }
   ],
   "source": [
    "from sklearn.metrics import r2_score\n",
    "\n",
    "# Predict on test data\n",
    "y_pred = pipeline.predict(X_test)\n",
    "\n",
    "# Calculate R² score\n",
    "r2 = r2_score(y_test, y_pred)\n",
    "print(f\"R² Score: {r2:.4f}\")\n"
   ]
  },
  {
   "cell_type": "markdown",
   "id": "04a9a3d9-6f81-4a81-9691-eb40bd24390a",
   "metadata": {},
   "source": [
    "#### How does the Base MSRP influence the Electric Range according to the regression model?"
   ]
  },
  {
   "cell_type": "code",
   "execution_count": 64,
   "id": "cc10bc3a-7cb1-49e6-ace2-653b67be50e3",
   "metadata": {},
   "outputs": [
    {
     "name": "stdout",
     "output_type": "stream",
     "text": [
      "       Feature  Coefficient\n",
      "217  Base MSRP    -0.000845\n"
     ]
    }
   ],
   "source": [
    "import numpy as np\n",
    "\n",
    "# Step 1: Get feature names after one-hot encoding\n",
    "onehot_feature_names = pipeline.named_steps['preprocessor']\\\n",
    "    .transformers_[0][1]\\\n",
    "    .get_feature_names_out(['Make', 'Model'])\n",
    "\n",
    "# Step 2: Combine with numeric features\n",
    "all_feature_names = np.concatenate([onehot_feature_names, ['Model Year', 'Base MSRP']])\n",
    "\n",
    "# Step 3: Get model coefficients\n",
    "coefficients = pipeline.named_steps['regressor'].coef_\n",
    "\n",
    "# Step 4: Create a DataFrame for easy inspection\n",
    "coef_df = pd.DataFrame({\n",
    "    'Feature': all_feature_names,\n",
    "    'Coefficient': coefficients\n",
    "})\n",
    "\n",
    "# Step 5: Filter for Base MSRP\n",
    "msrp_coef = coef_df[coef_df['Feature'] == 'Base MSRP']\n",
    "print(msrp_coef)\n"
   ]
  },
  {
   "cell_type": "markdown",
   "id": "c28a5aa5-6431-496f-9483-0c8e425c4e7f",
   "metadata": {},
   "source": [
    "#### What steps are needed to improve the accuracy of the Linear Regression model?"
   ]
  },
  {
   "cell_type": "code",
   "execution_count": 67,
   "id": "6871e611-61b4-4931-a6db-35e35ecb56ce",
   "metadata": {},
   "outputs": [],
   "source": [
    "# Remove outliers in Electric Range or MSRP\n",
    "df = df[df['Electric Range'] < 400]  # adjust threshold as needed\n",
    "df = df[df['Base MSRP'] < 150000]    # cap high-end outliers"
   ]
  },
  {
   "cell_type": "code",
   "execution_count": 68,
   "id": "2ba09575-35fd-4486-be43-33e5657e0d58",
   "metadata": {},
   "outputs": [],
   "source": [
    "# Example: Convert model year to age\n",
    "df['Vehicle_Age'] = 2025 - df['Model Year']"
   ]
  },
  {
   "cell_type": "code",
   "execution_count": 69,
   "id": "5271f6ef-fdd2-4ab9-a8ba-d62871a88579",
   "metadata": {},
   "outputs": [
    {
     "name": "stderr",
     "output_type": "stream",
     "text": [
      "C:\\ProgramData\\anaconda3\\Lib\\site-packages\\sklearn\\compose\\_column_transformer.py:1623: FutureWarning: \n",
      "The format of the columns of the 'remainder' transformer in ColumnTransformer.transformers_ will change in version 1.7 to match the format of the other transformers.\n",
      "At the moment the remainder columns are stored as indices (of type int). With the same ColumnTransformer configuration, in the future they will be stored as column names (of type str).\n",
      "To use the new behavior now and suppress this warning, use ColumnTransformer(force_int_remainder_cols=False).\n",
      "\n",
      "  warnings.warn(\n"
     ]
    },
    {
     "data": {
      "text/html": [
       "<style>#sk-container-id-1 {\n",
       "  /* Definition of color scheme common for light and dark mode */\n",
       "  --sklearn-color-text: black;\n",
       "  --sklearn-color-line: gray;\n",
       "  /* Definition of color scheme for unfitted estimators */\n",
       "  --sklearn-color-unfitted-level-0: #fff5e6;\n",
       "  --sklearn-color-unfitted-level-1: #f6e4d2;\n",
       "  --sklearn-color-unfitted-level-2: #ffe0b3;\n",
       "  --sklearn-color-unfitted-level-3: chocolate;\n",
       "  /* Definition of color scheme for fitted estimators */\n",
       "  --sklearn-color-fitted-level-0: #f0f8ff;\n",
       "  --sklearn-color-fitted-level-1: #d4ebff;\n",
       "  --sklearn-color-fitted-level-2: #b3dbfd;\n",
       "  --sklearn-color-fitted-level-3: cornflowerblue;\n",
       "\n",
       "  /* Specific color for light theme */\n",
       "  --sklearn-color-text-on-default-background: var(--sg-text-color, var(--theme-code-foreground, var(--jp-content-font-color1, black)));\n",
       "  --sklearn-color-background: var(--sg-background-color, var(--theme-background, var(--jp-layout-color0, white)));\n",
       "  --sklearn-color-border-box: var(--sg-text-color, var(--theme-code-foreground, var(--jp-content-font-color1, black)));\n",
       "  --sklearn-color-icon: #696969;\n",
       "\n",
       "  @media (prefers-color-scheme: dark) {\n",
       "    /* Redefinition of color scheme for dark theme */\n",
       "    --sklearn-color-text-on-default-background: var(--sg-text-color, var(--theme-code-foreground, var(--jp-content-font-color1, white)));\n",
       "    --sklearn-color-background: var(--sg-background-color, var(--theme-background, var(--jp-layout-color0, #111)));\n",
       "    --sklearn-color-border-box: var(--sg-text-color, var(--theme-code-foreground, var(--jp-content-font-color1, white)));\n",
       "    --sklearn-color-icon: #878787;\n",
       "  }\n",
       "}\n",
       "\n",
       "#sk-container-id-1 {\n",
       "  color: var(--sklearn-color-text);\n",
       "}\n",
       "\n",
       "#sk-container-id-1 pre {\n",
       "  padding: 0;\n",
       "}\n",
       "\n",
       "#sk-container-id-1 input.sk-hidden--visually {\n",
       "  border: 0;\n",
       "  clip: rect(1px 1px 1px 1px);\n",
       "  clip: rect(1px, 1px, 1px, 1px);\n",
       "  height: 1px;\n",
       "  margin: -1px;\n",
       "  overflow: hidden;\n",
       "  padding: 0;\n",
       "  position: absolute;\n",
       "  width: 1px;\n",
       "}\n",
       "\n",
       "#sk-container-id-1 div.sk-dashed-wrapped {\n",
       "  border: 1px dashed var(--sklearn-color-line);\n",
       "  margin: 0 0.4em 0.5em 0.4em;\n",
       "  box-sizing: border-box;\n",
       "  padding-bottom: 0.4em;\n",
       "  background-color: var(--sklearn-color-background);\n",
       "}\n",
       "\n",
       "#sk-container-id-1 div.sk-container {\n",
       "  /* jupyter's `normalize.less` sets `[hidden] { display: none; }`\n",
       "     but bootstrap.min.css set `[hidden] { display: none !important; }`\n",
       "     so we also need the `!important` here to be able to override the\n",
       "     default hidden behavior on the sphinx rendered scikit-learn.org.\n",
       "     See: https://github.com/scikit-learn/scikit-learn/issues/21755 */\n",
       "  display: inline-block !important;\n",
       "  position: relative;\n",
       "}\n",
       "\n",
       "#sk-container-id-1 div.sk-text-repr-fallback {\n",
       "  display: none;\n",
       "}\n",
       "\n",
       "div.sk-parallel-item,\n",
       "div.sk-serial,\n",
       "div.sk-item {\n",
       "  /* draw centered vertical line to link estimators */\n",
       "  background-image: linear-gradient(var(--sklearn-color-text-on-default-background), var(--sklearn-color-text-on-default-background));\n",
       "  background-size: 2px 100%;\n",
       "  background-repeat: no-repeat;\n",
       "  background-position: center center;\n",
       "}\n",
       "\n",
       "/* Parallel-specific style estimator block */\n",
       "\n",
       "#sk-container-id-1 div.sk-parallel-item::after {\n",
       "  content: \"\";\n",
       "  width: 100%;\n",
       "  border-bottom: 2px solid var(--sklearn-color-text-on-default-background);\n",
       "  flex-grow: 1;\n",
       "}\n",
       "\n",
       "#sk-container-id-1 div.sk-parallel {\n",
       "  display: flex;\n",
       "  align-items: stretch;\n",
       "  justify-content: center;\n",
       "  background-color: var(--sklearn-color-background);\n",
       "  position: relative;\n",
       "}\n",
       "\n",
       "#sk-container-id-1 div.sk-parallel-item {\n",
       "  display: flex;\n",
       "  flex-direction: column;\n",
       "}\n",
       "\n",
       "#sk-container-id-1 div.sk-parallel-item:first-child::after {\n",
       "  align-self: flex-end;\n",
       "  width: 50%;\n",
       "}\n",
       "\n",
       "#sk-container-id-1 div.sk-parallel-item:last-child::after {\n",
       "  align-self: flex-start;\n",
       "  width: 50%;\n",
       "}\n",
       "\n",
       "#sk-container-id-1 div.sk-parallel-item:only-child::after {\n",
       "  width: 0;\n",
       "}\n",
       "\n",
       "/* Serial-specific style estimator block */\n",
       "\n",
       "#sk-container-id-1 div.sk-serial {\n",
       "  display: flex;\n",
       "  flex-direction: column;\n",
       "  align-items: center;\n",
       "  background-color: var(--sklearn-color-background);\n",
       "  padding-right: 1em;\n",
       "  padding-left: 1em;\n",
       "}\n",
       "\n",
       "\n",
       "/* Toggleable style: style used for estimator/Pipeline/ColumnTransformer box that is\n",
       "clickable and can be expanded/collapsed.\n",
       "- Pipeline and ColumnTransformer use this feature and define the default style\n",
       "- Estimators will overwrite some part of the style using the `sk-estimator` class\n",
       "*/\n",
       "\n",
       "/* Pipeline and ColumnTransformer style (default) */\n",
       "\n",
       "#sk-container-id-1 div.sk-toggleable {\n",
       "  /* Default theme specific background. It is overwritten whether we have a\n",
       "  specific estimator or a Pipeline/ColumnTransformer */\n",
       "  background-color: var(--sklearn-color-background);\n",
       "}\n",
       "\n",
       "/* Toggleable label */\n",
       "#sk-container-id-1 label.sk-toggleable__label {\n",
       "  cursor: pointer;\n",
       "  display: block;\n",
       "  width: 100%;\n",
       "  margin-bottom: 0;\n",
       "  padding: 0.5em;\n",
       "  box-sizing: border-box;\n",
       "  text-align: center;\n",
       "}\n",
       "\n",
       "#sk-container-id-1 label.sk-toggleable__label-arrow:before {\n",
       "  /* Arrow on the left of the label */\n",
       "  content: \"▸\";\n",
       "  float: left;\n",
       "  margin-right: 0.25em;\n",
       "  color: var(--sklearn-color-icon);\n",
       "}\n",
       "\n",
       "#sk-container-id-1 label.sk-toggleable__label-arrow:hover:before {\n",
       "  color: var(--sklearn-color-text);\n",
       "}\n",
       "\n",
       "/* Toggleable content - dropdown */\n",
       "\n",
       "#sk-container-id-1 div.sk-toggleable__content {\n",
       "  max-height: 0;\n",
       "  max-width: 0;\n",
       "  overflow: hidden;\n",
       "  text-align: left;\n",
       "  /* unfitted */\n",
       "  background-color: var(--sklearn-color-unfitted-level-0);\n",
       "}\n",
       "\n",
       "#sk-container-id-1 div.sk-toggleable__content.fitted {\n",
       "  /* fitted */\n",
       "  background-color: var(--sklearn-color-fitted-level-0);\n",
       "}\n",
       "\n",
       "#sk-container-id-1 div.sk-toggleable__content pre {\n",
       "  margin: 0.2em;\n",
       "  border-radius: 0.25em;\n",
       "  color: var(--sklearn-color-text);\n",
       "  /* unfitted */\n",
       "  background-color: var(--sklearn-color-unfitted-level-0);\n",
       "}\n",
       "\n",
       "#sk-container-id-1 div.sk-toggleable__content.fitted pre {\n",
       "  /* unfitted */\n",
       "  background-color: var(--sklearn-color-fitted-level-0);\n",
       "}\n",
       "\n",
       "#sk-container-id-1 input.sk-toggleable__control:checked~div.sk-toggleable__content {\n",
       "  /* Expand drop-down */\n",
       "  max-height: 200px;\n",
       "  max-width: 100%;\n",
       "  overflow: auto;\n",
       "}\n",
       "\n",
       "#sk-container-id-1 input.sk-toggleable__control:checked~label.sk-toggleable__label-arrow:before {\n",
       "  content: \"▾\";\n",
       "}\n",
       "\n",
       "/* Pipeline/ColumnTransformer-specific style */\n",
       "\n",
       "#sk-container-id-1 div.sk-label input.sk-toggleable__control:checked~label.sk-toggleable__label {\n",
       "  color: var(--sklearn-color-text);\n",
       "  background-color: var(--sklearn-color-unfitted-level-2);\n",
       "}\n",
       "\n",
       "#sk-container-id-1 div.sk-label.fitted input.sk-toggleable__control:checked~label.sk-toggleable__label {\n",
       "  background-color: var(--sklearn-color-fitted-level-2);\n",
       "}\n",
       "\n",
       "/* Estimator-specific style */\n",
       "\n",
       "/* Colorize estimator box */\n",
       "#sk-container-id-1 div.sk-estimator input.sk-toggleable__control:checked~label.sk-toggleable__label {\n",
       "  /* unfitted */\n",
       "  background-color: var(--sklearn-color-unfitted-level-2);\n",
       "}\n",
       "\n",
       "#sk-container-id-1 div.sk-estimator.fitted input.sk-toggleable__control:checked~label.sk-toggleable__label {\n",
       "  /* fitted */\n",
       "  background-color: var(--sklearn-color-fitted-level-2);\n",
       "}\n",
       "\n",
       "#sk-container-id-1 div.sk-label label.sk-toggleable__label,\n",
       "#sk-container-id-1 div.sk-label label {\n",
       "  /* The background is the default theme color */\n",
       "  color: var(--sklearn-color-text-on-default-background);\n",
       "}\n",
       "\n",
       "/* On hover, darken the color of the background */\n",
       "#sk-container-id-1 div.sk-label:hover label.sk-toggleable__label {\n",
       "  color: var(--sklearn-color-text);\n",
       "  background-color: var(--sklearn-color-unfitted-level-2);\n",
       "}\n",
       "\n",
       "/* Label box, darken color on hover, fitted */\n",
       "#sk-container-id-1 div.sk-label.fitted:hover label.sk-toggleable__label.fitted {\n",
       "  color: var(--sklearn-color-text);\n",
       "  background-color: var(--sklearn-color-fitted-level-2);\n",
       "}\n",
       "\n",
       "/* Estimator label */\n",
       "\n",
       "#sk-container-id-1 div.sk-label label {\n",
       "  font-family: monospace;\n",
       "  font-weight: bold;\n",
       "  display: inline-block;\n",
       "  line-height: 1.2em;\n",
       "}\n",
       "\n",
       "#sk-container-id-1 div.sk-label-container {\n",
       "  text-align: center;\n",
       "}\n",
       "\n",
       "/* Estimator-specific */\n",
       "#sk-container-id-1 div.sk-estimator {\n",
       "  font-family: monospace;\n",
       "  border: 1px dotted var(--sklearn-color-border-box);\n",
       "  border-radius: 0.25em;\n",
       "  box-sizing: border-box;\n",
       "  margin-bottom: 0.5em;\n",
       "  /* unfitted */\n",
       "  background-color: var(--sklearn-color-unfitted-level-0);\n",
       "}\n",
       "\n",
       "#sk-container-id-1 div.sk-estimator.fitted {\n",
       "  /* fitted */\n",
       "  background-color: var(--sklearn-color-fitted-level-0);\n",
       "}\n",
       "\n",
       "/* on hover */\n",
       "#sk-container-id-1 div.sk-estimator:hover {\n",
       "  /* unfitted */\n",
       "  background-color: var(--sklearn-color-unfitted-level-2);\n",
       "}\n",
       "\n",
       "#sk-container-id-1 div.sk-estimator.fitted:hover {\n",
       "  /* fitted */\n",
       "  background-color: var(--sklearn-color-fitted-level-2);\n",
       "}\n",
       "\n",
       "/* Specification for estimator info (e.g. \"i\" and \"?\") */\n",
       "\n",
       "/* Common style for \"i\" and \"?\" */\n",
       "\n",
       ".sk-estimator-doc-link,\n",
       "a:link.sk-estimator-doc-link,\n",
       "a:visited.sk-estimator-doc-link {\n",
       "  float: right;\n",
       "  font-size: smaller;\n",
       "  line-height: 1em;\n",
       "  font-family: monospace;\n",
       "  background-color: var(--sklearn-color-background);\n",
       "  border-radius: 1em;\n",
       "  height: 1em;\n",
       "  width: 1em;\n",
       "  text-decoration: none !important;\n",
       "  margin-left: 1ex;\n",
       "  /* unfitted */\n",
       "  border: var(--sklearn-color-unfitted-level-1) 1pt solid;\n",
       "  color: var(--sklearn-color-unfitted-level-1);\n",
       "}\n",
       "\n",
       ".sk-estimator-doc-link.fitted,\n",
       "a:link.sk-estimator-doc-link.fitted,\n",
       "a:visited.sk-estimator-doc-link.fitted {\n",
       "  /* fitted */\n",
       "  border: var(--sklearn-color-fitted-level-1) 1pt solid;\n",
       "  color: var(--sklearn-color-fitted-level-1);\n",
       "}\n",
       "\n",
       "/* On hover */\n",
       "div.sk-estimator:hover .sk-estimator-doc-link:hover,\n",
       ".sk-estimator-doc-link:hover,\n",
       "div.sk-label-container:hover .sk-estimator-doc-link:hover,\n",
       ".sk-estimator-doc-link:hover {\n",
       "  /* unfitted */\n",
       "  background-color: var(--sklearn-color-unfitted-level-3);\n",
       "  color: var(--sklearn-color-background);\n",
       "  text-decoration: none;\n",
       "}\n",
       "\n",
       "div.sk-estimator.fitted:hover .sk-estimator-doc-link.fitted:hover,\n",
       ".sk-estimator-doc-link.fitted:hover,\n",
       "div.sk-label-container:hover .sk-estimator-doc-link.fitted:hover,\n",
       ".sk-estimator-doc-link.fitted:hover {\n",
       "  /* fitted */\n",
       "  background-color: var(--sklearn-color-fitted-level-3);\n",
       "  color: var(--sklearn-color-background);\n",
       "  text-decoration: none;\n",
       "}\n",
       "\n",
       "/* Span, style for the box shown on hovering the info icon */\n",
       ".sk-estimator-doc-link span {\n",
       "  display: none;\n",
       "  z-index: 9999;\n",
       "  position: relative;\n",
       "  font-weight: normal;\n",
       "  right: .2ex;\n",
       "  padding: .5ex;\n",
       "  margin: .5ex;\n",
       "  width: min-content;\n",
       "  min-width: 20ex;\n",
       "  max-width: 50ex;\n",
       "  color: var(--sklearn-color-text);\n",
       "  box-shadow: 2pt 2pt 4pt #999;\n",
       "  /* unfitted */\n",
       "  background: var(--sklearn-color-unfitted-level-0);\n",
       "  border: .5pt solid var(--sklearn-color-unfitted-level-3);\n",
       "}\n",
       "\n",
       ".sk-estimator-doc-link.fitted span {\n",
       "  /* fitted */\n",
       "  background: var(--sklearn-color-fitted-level-0);\n",
       "  border: var(--sklearn-color-fitted-level-3);\n",
       "}\n",
       "\n",
       ".sk-estimator-doc-link:hover span {\n",
       "  display: block;\n",
       "}\n",
       "\n",
       "/* \"?\"-specific style due to the `<a>` HTML tag */\n",
       "\n",
       "#sk-container-id-1 a.estimator_doc_link {\n",
       "  float: right;\n",
       "  font-size: 1rem;\n",
       "  line-height: 1em;\n",
       "  font-family: monospace;\n",
       "  background-color: var(--sklearn-color-background);\n",
       "  border-radius: 1rem;\n",
       "  height: 1rem;\n",
       "  width: 1rem;\n",
       "  text-decoration: none;\n",
       "  /* unfitted */\n",
       "  color: var(--sklearn-color-unfitted-level-1);\n",
       "  border: var(--sklearn-color-unfitted-level-1) 1pt solid;\n",
       "}\n",
       "\n",
       "#sk-container-id-1 a.estimator_doc_link.fitted {\n",
       "  /* fitted */\n",
       "  border: var(--sklearn-color-fitted-level-1) 1pt solid;\n",
       "  color: var(--sklearn-color-fitted-level-1);\n",
       "}\n",
       "\n",
       "/* On hover */\n",
       "#sk-container-id-1 a.estimator_doc_link:hover {\n",
       "  /* unfitted */\n",
       "  background-color: var(--sklearn-color-unfitted-level-3);\n",
       "  color: var(--sklearn-color-background);\n",
       "  text-decoration: none;\n",
       "}\n",
       "\n",
       "#sk-container-id-1 a.estimator_doc_link.fitted:hover {\n",
       "  /* fitted */\n",
       "  background-color: var(--sklearn-color-fitted-level-3);\n",
       "}\n",
       "</style><div id=\"sk-container-id-1\" class=\"sk-top-container\"><div class=\"sk-text-repr-fallback\"><pre>Pipeline(steps=[(&#x27;columntransformer&#x27;,\n",
       "                 ColumnTransformer(remainder=&#x27;passthrough&#x27;,\n",
       "                                   transformers=[(&#x27;cat&#x27;,\n",
       "                                                  OneHotEncoder(handle_unknown=&#x27;ignore&#x27;),\n",
       "                                                  [&#x27;Make&#x27;, &#x27;Model&#x27;])])),\n",
       "                (&#x27;polynomialfeatures&#x27;, PolynomialFeatures(include_bias=False)),\n",
       "                (&#x27;ridge&#x27;, Ridge())])</pre><b>In a Jupyter environment, please rerun this cell to show the HTML representation or trust the notebook. <br />On GitHub, the HTML representation is unable to render, please try loading this page with nbviewer.org.</b></div><div class=\"sk-container\" hidden><div class=\"sk-item sk-dashed-wrapped\"><div class=\"sk-label-container\"><div class=\"sk-label fitted sk-toggleable\"><input class=\"sk-toggleable__control sk-hidden--visually\" id=\"sk-estimator-id-1\" type=\"checkbox\" ><label for=\"sk-estimator-id-1\" class=\"sk-toggleable__label fitted sk-toggleable__label-arrow fitted\">&nbsp;&nbsp;Pipeline<a class=\"sk-estimator-doc-link fitted\" rel=\"noreferrer\" target=\"_blank\" href=\"https://scikit-learn.org/1.5/modules/generated/sklearn.pipeline.Pipeline.html\">?<span>Documentation for Pipeline</span></a><span class=\"sk-estimator-doc-link fitted\">i<span>Fitted</span></span></label><div class=\"sk-toggleable__content fitted\"><pre>Pipeline(steps=[(&#x27;columntransformer&#x27;,\n",
       "                 ColumnTransformer(remainder=&#x27;passthrough&#x27;,\n",
       "                                   transformers=[(&#x27;cat&#x27;,\n",
       "                                                  OneHotEncoder(handle_unknown=&#x27;ignore&#x27;),\n",
       "                                                  [&#x27;Make&#x27;, &#x27;Model&#x27;])])),\n",
       "                (&#x27;polynomialfeatures&#x27;, PolynomialFeatures(include_bias=False)),\n",
       "                (&#x27;ridge&#x27;, Ridge())])</pre></div> </div></div><div class=\"sk-serial\"><div class=\"sk-item sk-dashed-wrapped\"><div class=\"sk-label-container\"><div class=\"sk-label fitted sk-toggleable\"><input class=\"sk-toggleable__control sk-hidden--visually\" id=\"sk-estimator-id-2\" type=\"checkbox\" ><label for=\"sk-estimator-id-2\" class=\"sk-toggleable__label fitted sk-toggleable__label-arrow fitted\">&nbsp;columntransformer: ColumnTransformer<a class=\"sk-estimator-doc-link fitted\" rel=\"noreferrer\" target=\"_blank\" href=\"https://scikit-learn.org/1.5/modules/generated/sklearn.compose.ColumnTransformer.html\">?<span>Documentation for columntransformer: ColumnTransformer</span></a></label><div class=\"sk-toggleable__content fitted\"><pre>ColumnTransformer(remainder=&#x27;passthrough&#x27;,\n",
       "                  transformers=[(&#x27;cat&#x27;, OneHotEncoder(handle_unknown=&#x27;ignore&#x27;),\n",
       "                                 [&#x27;Make&#x27;, &#x27;Model&#x27;])])</pre></div> </div></div><div class=\"sk-parallel\"><div class=\"sk-parallel-item\"><div class=\"sk-item\"><div class=\"sk-label-container\"><div class=\"sk-label fitted sk-toggleable\"><input class=\"sk-toggleable__control sk-hidden--visually\" id=\"sk-estimator-id-3\" type=\"checkbox\" ><label for=\"sk-estimator-id-3\" class=\"sk-toggleable__label fitted sk-toggleable__label-arrow fitted\">cat</label><div class=\"sk-toggleable__content fitted\"><pre>[&#x27;Make&#x27;, &#x27;Model&#x27;]</pre></div> </div></div><div class=\"sk-serial\"><div class=\"sk-item\"><div class=\"sk-estimator fitted sk-toggleable\"><input class=\"sk-toggleable__control sk-hidden--visually\" id=\"sk-estimator-id-4\" type=\"checkbox\" ><label for=\"sk-estimator-id-4\" class=\"sk-toggleable__label fitted sk-toggleable__label-arrow fitted\">&nbsp;OneHotEncoder<a class=\"sk-estimator-doc-link fitted\" rel=\"noreferrer\" target=\"_blank\" href=\"https://scikit-learn.org/1.5/modules/generated/sklearn.preprocessing.OneHotEncoder.html\">?<span>Documentation for OneHotEncoder</span></a></label><div class=\"sk-toggleable__content fitted\"><pre>OneHotEncoder(handle_unknown=&#x27;ignore&#x27;)</pre></div> </div></div></div></div></div><div class=\"sk-parallel-item\"><div class=\"sk-item\"><div class=\"sk-label-container\"><div class=\"sk-label fitted sk-toggleable\"><input class=\"sk-toggleable__control sk-hidden--visually\" id=\"sk-estimator-id-5\" type=\"checkbox\" ><label for=\"sk-estimator-id-5\" class=\"sk-toggleable__label fitted sk-toggleable__label-arrow fitted\">remainder</label><div class=\"sk-toggleable__content fitted\"><pre>[&#x27;Model Year&#x27;, &#x27;Base MSRP&#x27;]</pre></div> </div></div><div class=\"sk-serial\"><div class=\"sk-item\"><div class=\"sk-estimator fitted sk-toggleable\"><input class=\"sk-toggleable__control sk-hidden--visually\" id=\"sk-estimator-id-6\" type=\"checkbox\" ><label for=\"sk-estimator-id-6\" class=\"sk-toggleable__label fitted sk-toggleable__label-arrow fitted\">passthrough</label><div class=\"sk-toggleable__content fitted\"><pre>passthrough</pre></div> </div></div></div></div></div></div></div><div class=\"sk-item\"><div class=\"sk-estimator fitted sk-toggleable\"><input class=\"sk-toggleable__control sk-hidden--visually\" id=\"sk-estimator-id-7\" type=\"checkbox\" ><label for=\"sk-estimator-id-7\" class=\"sk-toggleable__label fitted sk-toggleable__label-arrow fitted\">&nbsp;PolynomialFeatures<a class=\"sk-estimator-doc-link fitted\" rel=\"noreferrer\" target=\"_blank\" href=\"https://scikit-learn.org/1.5/modules/generated/sklearn.preprocessing.PolynomialFeatures.html\">?<span>Documentation for PolynomialFeatures</span></a></label><div class=\"sk-toggleable__content fitted\"><pre>PolynomialFeatures(include_bias=False)</pre></div> </div></div><div class=\"sk-item\"><div class=\"sk-estimator fitted sk-toggleable\"><input class=\"sk-toggleable__control sk-hidden--visually\" id=\"sk-estimator-id-8\" type=\"checkbox\" ><label for=\"sk-estimator-id-8\" class=\"sk-toggleable__label fitted sk-toggleable__label-arrow fitted\">&nbsp;Ridge<a class=\"sk-estimator-doc-link fitted\" rel=\"noreferrer\" target=\"_blank\" href=\"https://scikit-learn.org/1.5/modules/generated/sklearn.linear_model.Ridge.html\">?<span>Documentation for Ridge</span></a></label><div class=\"sk-toggleable__content fitted\"><pre>Ridge()</pre></div> </div></div></div></div></div></div>"
      ],
      "text/plain": [
       "Pipeline(steps=[('columntransformer',\n",
       "                 ColumnTransformer(remainder='passthrough',\n",
       "                                   transformers=[('cat',\n",
       "                                                  OneHotEncoder(handle_unknown='ignore'),\n",
       "                                                  ['Make', 'Model'])])),\n",
       "                ('polynomialfeatures', PolynomialFeatures(include_bias=False)),\n",
       "                ('ridge', Ridge())])"
      ]
     },
     "execution_count": 69,
     "metadata": {},
     "output_type": "execute_result"
    }
   ],
   "source": [
    "from sklearn.preprocessing import PolynomialFeatures\n",
    "from sklearn.linear_model import Ridge  # add regularization to avoid overfitting\n",
    "\n",
    "# Update pipeline\n",
    "from sklearn.pipeline import make_pipeline\n",
    "model = make_pipeline(\n",
    "    ColumnTransformer([\n",
    "        ('cat', OneHotEncoder(handle_unknown='ignore'), ['Make', 'Model']),\n",
    "    ], remainder='passthrough'),\n",
    "    PolynomialFeatures(degree=2, include_bias=False),\n",
    "    Ridge(alpha=1.0)\n",
    ")\n",
    "\n",
    "model.fit(X_train, y_train)"
   ]
  },
  {
   "cell_type": "code",
   "execution_count": 70,
   "id": "62df3576-69e2-457d-8a99-1967f4cbc506",
   "metadata": {},
   "outputs": [],
   "source": [
    "# Use model coefficients to identify weak features\n",
    "important_features = coef_df[coef_df['Coefficient'].abs() > 1.0]"
   ]
  },
  {
   "cell_type": "code",
   "execution_count": 71,
   "id": "fc3d5a3c-7ccb-4f94-9bcb-35d75a36bde8",
   "metadata": {},
   "outputs": [
    {
     "name": "stdout",
     "output_type": "stream",
     "text": [
      "R² Score (Random Forest): 0.9874873359159849\n"
     ]
    }
   ],
   "source": [
    "from sklearn.ensemble import RandomForestRegressor\n",
    "\n",
    "pipeline_rf = Pipeline(steps=[\n",
    "    ('preprocessor', preprocessor),\n",
    "    ('regressor', RandomForestRegressor(n_estimators=100, random_state=42))\n",
    "])\n",
    "\n",
    "pipeline_rf.fit(X_train, y_train)\n",
    "print(\"R² Score (Random Forest):\", pipeline_rf.score(X_test, y_test))"
   ]
  },
  {
   "cell_type": "code",
   "execution_count": 73,
   "id": "b3f885f2-1a31-4588-a124-12e915100d6d",
   "metadata": {},
   "outputs": [
    {
     "name": "stdout",
     "output_type": "stream",
     "text": [
      "Cross-validated R² score: 0.5168\n"
     ]
    }
   ],
   "source": [
    "from sklearn.model_selection import cross_val_score\n",
    "\n",
    "scores = cross_val_score(pipeline, X, y, cv=5, scoring='r2')\n",
    "print(f\"Cross-validated R² score: {scores.mean():.4f}\")"
   ]
  },
  {
   "cell_type": "markdown",
   "id": "48c3eba5-e628-4ef1-81cd-e8eabb89b10e",
   "metadata": {},
   "source": [
    "#### Can we use this model to predict the range of new EV models based on their specifications?"
   ]
  },
  {
   "cell_type": "code",
   "execution_count": 74,
   "id": "78e39214-07cb-4caa-9558-43064d640cf2",
   "metadata": {},
   "outputs": [],
   "source": [
    "# New EV example\n",
    "new_ev = pd.DataFrame([{\n",
    "    'Make': 'Tesla',\n",
    "    'Model': 'Model Y',\n",
    "    'Model Year': 2025,\n",
    "    'Base MSRP': 52000\n",
    "}])\n"
   ]
  },
  {
   "cell_type": "code",
   "execution_count": 75,
   "id": "f638917f-8bce-4cc7-be3d-fd9c99cf70a9",
   "metadata": {},
   "outputs": [
    {
     "name": "stdout",
     "output_type": "stream",
     "text": [
      "Predicted Electric Range: -71.68 miles\n"
     ]
    }
   ],
   "source": [
    "# Predict the electric range\n",
    "predicted_range = pipeline.predict(new_ev)\n",
    "\n",
    "print(f\"Predicted Electric Range: {predicted_range[0]:.2f} miles\")\n"
   ]
  },
  {
   "cell_type": "code",
   "execution_count": 76,
   "id": "0ec072df-3bfa-4b72-acd6-6d1ba57cb48f",
   "metadata": {},
   "outputs": [
    {
     "name": "stdout",
     "output_type": "stream",
     "text": [
      "Ford F-150 Lightning (2024): ~-60.6 miles\n",
      "Chevrolet Bolt EV (2023): ~-13.2 miles\n"
     ]
    }
   ],
   "source": [
    "new_evs = pd.DataFrame([\n",
    "    {'Make': 'Ford', 'Model': 'F-150 Lightning', 'Model Year': 2024, 'Base MSRP': 61000},\n",
    "    {'Make': 'Chevrolet', 'Model': 'Bolt EV', 'Model Year': 2023, 'Base MSRP': 27000},\n",
    "])\n",
    "\n",
    "predicted_ranges = pipeline.predict(new_evs)\n",
    "\n",
    "for i, ev in new_evs.iterrows():\n",
    "    print(f\"{ev['Make']} {ev['Model']} ({ev['Model Year']}): ~{predicted_ranges[i]:.1f} miles\")\n"
   ]
  },
  {
   "cell_type": "markdown",
   "id": "b6283994-db66-4883-955a-b1035d11546a",
   "metadata": {},
   "source": [
    "## Conclusion"
   ]
  },
  {
   "cell_type": "markdown",
   "id": "5dfdef41-3e3f-43b4-bf4e-506af9590a32",
   "metadata": {},
   "source": [
    "The analysis of the Electric Vehicle Population Dataset reveals several key insights into the adoption and characteristics of EVs in Washington State:\n",
    "\n",
    "Tesla dominates the EV market, with multiple models ranking among the most registered vehicles.\n",
    "\n",
    "EV adoption has steadily increased over the years, especially from 2018 onward, reflecting growing consumer interest and improved vehicle technology.\n",
    "\n",
    "King County leads in EV registrations, highlighting a regional trend of higher EV adoption in more urbanized areas.\n",
    "\n",
    "Vehicles eligible for Clean Alternative Fuel Vehicle (CAFV) incentives represent a significant portion of the dataset, suggesting incentives are effective in promoting adoption.\n",
    "\n",
    "A positive correlation exists between Base MSRP and electric range, showing that higher-priced EVs tend to offer longer driving ranges.\n",
    "\n",
    "Using Linear Regression, we built a basic predictive model for estimating electric range based on features like Make, Model Year, and MSRP. While the model provides useful insights, there's room to improve accuracy by incorporating more detailed specifications such as battery size or drivetrain type.\n",
    "\n",
    "Overall, the findings support the growing momentum of EV adoption and provide a foundation for strategic planning in infrastructure, marketing, and sustainability policy."
   ]
  },
  {
   "cell_type": "code",
   "execution_count": null,
   "id": "39fbf8d7-9fce-4091-af86-8977c2269592",
   "metadata": {},
   "outputs": [],
   "source": []
  }
 ],
 "metadata": {
  "kernelspec": {
   "display_name": "Python 3 (ipykernel)",
   "language": "python",
   "name": "python3"
  },
  "language_info": {
   "codemirror_mode": {
    "name": "ipython",
    "version": 3
   },
   "file_extension": ".py",
   "mimetype": "text/x-python",
   "name": "python",
   "nbconvert_exporter": "python",
   "pygments_lexer": "ipython3",
   "version": "3.12.7"
  }
 },
 "nbformat": 4,
 "nbformat_minor": 5
}
